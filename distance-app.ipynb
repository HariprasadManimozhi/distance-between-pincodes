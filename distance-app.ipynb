{
 "cells": [
  {
   "cell_type": "markdown",
   "metadata": {},
   "source": [
    "<!--<h2><center>Product Formulations - Search Engine</center></h2>-->\n",
    "<h3>\n",
    "    <center>\n",
    "        <font color=\"Navy\">Distance of localities of Chennai from Injambakkam</font>\n",
    "    </center>\n",
    "</h3>\n"
   ]
  },
  {
   "cell_type": "markdown",
   "metadata": {},
   "source": [
    "* Pincode of Injambakkam - 600115\n",
    "* Some localities of Kanchipuram are also considered\n",
    "* Distance is calculated approximately using latitudes & longtitudes\n",
    "---"
   ]
  },
  {
   "cell_type": "code",
   "execution_count": 1,
   "metadata": {},
   "outputs": [],
   "source": [
    "import pgeocode\n",
    "import os\n",
    "import pandas as pd\n",
    "\n",
    "# IPY - VOILA \n",
    "import ipywidgets as widgets\n",
    "from IPython.display import display, clear_output\n",
    "from ipywidgets import widgets,Button, Output, VBox,interactive,interact"
   ]
  },
  {
   "cell_type": "code",
   "execution_count": 2,
   "metadata": {},
   "outputs": [],
   "source": [
    "path = os.getcwd()\n",
    "path1 = path + '/Data/result2.csv'\n",
    "data = pd.read_csv(path1,encoding='unicode_escape')"
   ]
  },
  {
   "cell_type": "code",
   "execution_count": 5,
   "metadata": {},
   "outputs": [],
   "source": [
    "#df1 = data[['Village/Locality name','Officename ( BO/SO/HO)','Pincode','Districtname','dis from A']]\n",
    "df1 = data[['CityName/AreaName','Pincode','District','Latitude','Longitude','distance(in kms)']]"
   ]
  },
  {
   "cell_type": "code",
   "execution_count": 8,
   "metadata": {},
   "outputs": [
    {
     "data": {
      "application/vnd.jupyter.widget-view+json": {
       "model_id": "a8fb6d5f34cb46ffafa64b97731e4405",
       "version_major": 2,
       "version_minor": 0
      },
      "text/plain": [
       "interactive(children=(Combobox(value='', description='Locality', options=('Acharapakkam', 'Acharapakkam R.S.',…"
      ]
     },
     "metadata": {},
     "output_type": "display_data"
    }
   ],
   "source": [
    "#locality_list = sorted(data['Village/Locality name'].unique())\n",
    "locality_list = sorted(data['CityName/AreaName'].unique())\n",
    "\n",
    "\n",
    "def show_stats_by_tag(Locality):\n",
    "    df = df1[df1['CityName/AreaName'].isin([Locality])]\n",
    "    return(display(df))\n",
    "    \n",
    "stats = interactive(show_stats_by_tag,Locality = widgets.Combobox(options=locality_list,rows=10,disabled=False))\n",
    "stats"
   ]
  }
 ],
 "metadata": {
  "kernelspec": {
   "display_name": "Python 3",
   "language": "python",
   "name": "python3"
  },
  "language_info": {
   "codemirror_mode": {
    "name": "ipython",
    "version": 3
   },
   "file_extension": ".py",
   "mimetype": "text/x-python",
   "name": "python",
   "nbconvert_exporter": "python",
   "pygments_lexer": "ipython3",
   "version": "3.8.1"
  }
 },
 "nbformat": 4,
 "nbformat_minor": 4
}
