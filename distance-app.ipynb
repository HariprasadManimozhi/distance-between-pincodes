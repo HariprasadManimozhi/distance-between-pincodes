{
 "cells": [
  {
   "cell_type": "markdown",
   "metadata": {},
   "source": [
    "<!--<h2><center>Product Formulations - Search Engine</center></h2>-->\n",
    "<h3>\n",
    "    <center>\n",
    "        <font color=\"Navy\">Distance of localities of Chennai from Akkarai</font>\n",
    "    </center>\n",
    "</h3>\n"
   ]
  },
  {
   "cell_type": "markdown",
   "metadata": {},
   "source": [
    "* Pincode of Akkarai/Uthandi - 600119\n",
    "* Some localities of Kanchipuram are also considered\n",
    "* Distance is calculated approximately\n",
    "---"
   ]
  },
  {
   "cell_type": "code",
   "execution_count": 27,
   "metadata": {},
   "outputs": [],
   "source": [
    "import pgeocode\n",
    "import os\n",
    "import pandas as pd\n",
    "\n",
    "# IPY - VOILA \n",
    "import ipywidgets as widgets\n",
    "from IPython.display import display, clear_output\n",
    "from ipywidgets import widgets,Button, Output, VBox,interactive,interact"
   ]
  },
  {
   "cell_type": "code",
   "execution_count": 28,
   "metadata": {},
   "outputs": [],
   "source": [
    "path = os.getcwd()\n",
    "path1 = path + '/Data/result.csv'\n",
    "data = pd.read_csv(path1,encoding='unicode_escape')"
   ]
  },
  {
   "cell_type": "code",
   "execution_count": 37,
   "metadata": {},
   "outputs": [],
   "source": [
    "df1 = data[['Village/Locality name','Officename ( BO/SO/HO)','Pincode','Districtname','dis from A']]\n",
    "df1 = df1.rename(columns={'dis from A': 'Distance(in kms)'})"
   ]
  },
  {
   "cell_type": "code",
   "execution_count": 38,
   "metadata": {},
   "outputs": [
    {
     "data": {
      "application/vnd.jupyter.widget-view+json": {
       "model_id": "05f2fc63625143a197eaec599e2e9d74",
       "version_major": 2,
       "version_minor": 0
      },
      "text/plain": [
       "interactive(children=(Combobox(value='', description='Locality', options=('ALATHUR INDUSTRIAL ESTATE', 'Achara…"
      ]
     },
     "metadata": {},
     "output_type": "display_data"
    }
   ],
   "source": [
    "ingredient_list = sorted(data['Village/Locality name'].unique())\n",
    "\n",
    "def show_stats_by_tag(Locality):\n",
    "    df = df1[df1['Village/Locality name'].isin([Locality])]\n",
    "    return(display(df))\n",
    "    \n",
    "stats = interactive(show_stats_by_tag,Locality = widgets.Combobox(options=ingredient_list,rows=10,disabled=False))\n",
    "stats"
   ]
  }
 ],
 "metadata": {
  "kernelspec": {
   "display_name": "Python 3",
   "language": "python",
   "name": "python3"
  },
  "language_info": {
   "codemirror_mode": {
    "name": "ipython",
    "version": 3
   },
   "file_extension": ".py",
   "mimetype": "text/x-python",
   "name": "python",
   "nbconvert_exporter": "python",
   "pygments_lexer": "ipython3",
   "version": "3.8.1"
  }
 },
 "nbformat": 4,
 "nbformat_minor": 4
}
