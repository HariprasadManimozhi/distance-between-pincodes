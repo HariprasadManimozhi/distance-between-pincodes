{
 "cells": [
  {
   "cell_type": "markdown",
   "metadata": {},
   "source": [
    "<!--<h2><center>Product Formulations - Search Engine</center></h2>-->\n",
    "<h3>\n",
    "    <center>\n",
    "        <font color=\"Navy\">Distance of localities of Chennai from Injambakkam</font>\n",
    "    </center>\n",
    "</h3>\n"
   ]
  },
  {
   "cell_type": "markdown",
   "metadata": {},
   "source": [
    "* Pincode of Injambakkam - 600115\n",
    "* Some localities of Kanchipuram are also considered\n",
    "* Distance is calculated approximately using latitudes & longtitudes\n",
    "---"
   ]
  },
  {
   "cell_type": "code",
   "execution_count": 1,
   "metadata": {},
   "outputs": [],
   "source": [
    "import pgeocode\n",
    "import os\n",
    "import pandas as pd\n",
    "\n",
    "# IPY - VOILA \n",
    "import ipywidgets as widgets\n",
    "from IPython.display import display, clear_output\n",
    "from ipywidgets import widgets,Button, Output, VBox,interactive,interact"
   ]
  },
  {
   "cell_type": "code",
   "execution_count": 2,
   "metadata": {},
   "outputs": [],
   "source": [
    "path = os.getcwd()\n",
    "path1 = path + '/Data/result2.csv'\n",
    "data = pd.read_csv(path1,encoding='unicode_escape')"
   ]
  },
  {
   "cell_type": "code",
   "execution_count": 4,
   "metadata": {},
   "outputs": [
    {
     "data": {
      "text/html": [
       "<div>\n",
       "<style scoped>\n",
       "    .dataframe tbody tr th:only-of-type {\n",
       "        vertical-align: middle;\n",
       "    }\n",
       "\n",
       "    .dataframe tbody tr th {\n",
       "        vertical-align: top;\n",
       "    }\n",
       "\n",
       "    .dataframe thead th {\n",
       "        text-align: right;\n",
       "    }\n",
       "</style>\n",
       "<table border=\"1\" class=\"dataframe\">\n",
       "  <thead>\n",
       "    <tr style=\"text-align: right;\">\n",
       "      <th></th>\n",
       "      <th>CID</th>\n",
       "      <th>CityName/AreaName</th>\n",
       "      <th>Pincode</th>\n",
       "      <th>District</th>\n",
       "      <th>State</th>\n",
       "      <th>Locality</th>\n",
       "      <th>Location</th>\n",
       "      <th>Latitude</th>\n",
       "      <th>Longitude</th>\n",
       "      <th>distance(in kms)</th>\n",
       "    </tr>\n",
       "  </thead>\n",
       "  <tbody>\n",
       "    <tr>\n",
       "      <th>0</th>\n",
       "      <td>101465</td>\n",
       "      <td>Flower Bazaar</td>\n",
       "      <td>600001</td>\n",
       "      <td>Chennai</td>\n",
       "      <td>TAMIL NADU</td>\n",
       "      <td>Flower Bazaar,600001,Chennai,TAMIL NADU</td>\n",
       "      <td>Flower Bazaar Chowk, George Town, Chennai, Tam...</td>\n",
       "      <td>13.088194</td>\n",
       "      <td>80.281455</td>\n",
       "      <td>18.579589</td>\n",
       "    </tr>\n",
       "    <tr>\n",
       "      <th>1</th>\n",
       "      <td>101466</td>\n",
       "      <td>Govt Stanley Hospital</td>\n",
       "      <td>600001</td>\n",
       "      <td>Chennai</td>\n",
       "      <td>TAMIL NADU</td>\n",
       "      <td>Govt Stanley Hospital,600001,Chennai,TAMIL NADU</td>\n",
       "      <td>Blood Bank-Government Stanley Hospital</td>\n",
       "      <td>13.105560</td>\n",
       "      <td>80.286480</td>\n",
       "      <td>20.568512</td>\n",
       "    </tr>\n",
       "    <tr>\n",
       "      <th>2</th>\n",
       "      <td>101467</td>\n",
       "      <td>Mannady (Chennai)</td>\n",
       "      <td>600001</td>\n",
       "      <td>Chennai</td>\n",
       "      <td>TAMIL NADU</td>\n",
       "      <td>Mannady (Chennai),600001,Chennai,TAMIL NADU</td>\n",
       "      <td>Mannady, George Town, Chennai, Tamil Nadu</td>\n",
       "      <td>13.100870</td>\n",
       "      <td>80.293800</td>\n",
       "      <td>20.228572</td>\n",
       "    </tr>\n",
       "    <tr>\n",
       "      <th>3</th>\n",
       "      <td>101468</td>\n",
       "      <td>Mint Building</td>\n",
       "      <td>600001</td>\n",
       "      <td>Chennai</td>\n",
       "      <td>TAMIL NADU</td>\n",
       "      <td>Mint Building,600001,Chennai,TAMIL NADU</td>\n",
       "      <td>T. N. K. Buildings</td>\n",
       "      <td>13.084710</td>\n",
       "      <td>80.278190</td>\n",
       "      <td>18.138748</td>\n",
       "    </tr>\n",
       "    <tr>\n",
       "      <th>4</th>\n",
       "      <td>101469</td>\n",
       "      <td>MPT AO</td>\n",
       "      <td>600001</td>\n",
       "      <td>Chennai</td>\n",
       "      <td>TAMIL NADU</td>\n",
       "      <td>MPT AO,600001,Chennai,TAMIL NADU</td>\n",
       "      <td>600001</td>\n",
       "      <td>13.093700</td>\n",
       "      <td>80.295838</td>\n",
       "      <td>19.512334</td>\n",
       "    </tr>\n",
       "  </tbody>\n",
       "</table>\n",
       "</div>"
      ],
      "text/plain": [
       "      CID      CityName/AreaName  Pincode District       State  \\\n",
       "0  101465          Flower Bazaar   600001  Chennai  TAMIL NADU   \n",
       "1  101466  Govt Stanley Hospital   600001  Chennai  TAMIL NADU   \n",
       "2  101467      Mannady (Chennai)   600001  Chennai  TAMIL NADU   \n",
       "3  101468          Mint Building   600001  Chennai  TAMIL NADU   \n",
       "4  101469                 MPT AO   600001  Chennai  TAMIL NADU   \n",
       "\n",
       "                                          Locality  \\\n",
       "0          Flower Bazaar,600001,Chennai,TAMIL NADU   \n",
       "1  Govt Stanley Hospital,600001,Chennai,TAMIL NADU   \n",
       "2      Mannady (Chennai),600001,Chennai,TAMIL NADU   \n",
       "3          Mint Building,600001,Chennai,TAMIL NADU   \n",
       "4                 MPT AO,600001,Chennai,TAMIL NADU   \n",
       "\n",
       "                                            Location   Latitude  Longitude  \\\n",
       "0  Flower Bazaar Chowk, George Town, Chennai, Tam...  13.088194  80.281455   \n",
       "1             Blood Bank-Government Stanley Hospital  13.105560  80.286480   \n",
       "2          Mannady, George Town, Chennai, Tamil Nadu  13.100870  80.293800   \n",
       "3                                 T. N. K. Buildings  13.084710  80.278190   \n",
       "4                                             600001  13.093700  80.295838   \n",
       "\n",
       "   distance(in kms)  \n",
       "0         18.579589  \n",
       "1         20.568512  \n",
       "2         20.228572  \n",
       "3         18.138748  \n",
       "4         19.512334  "
      ]
     },
     "execution_count": 4,
     "metadata": {},
     "output_type": "execute_result"
    }
   ],
   "source": [
    "data.head()"
   ]
  },
  {
   "cell_type": "code",
   "execution_count": 5,
   "metadata": {},
   "outputs": [],
   "source": [
    "#df1 = data[['Village/Locality name','Officename ( BO/SO/HO)','Pincode','Districtname','dis from A']]\n",
    "df1 = data[['CityName/AreaName','Pincode','District','Latitude','Longitude','distance(in kms)']]"
   ]
  },
  {
   "cell_type": "code",
   "execution_count": 8,
   "metadata": {},
   "outputs": [
    {
     "data": {
      "application/vnd.jupyter.widget-view+json": {
       "model_id": "a8fb6d5f34cb46ffafa64b97731e4405",
       "version_major": 2,
       "version_minor": 0
      },
      "text/plain": [
       "interactive(children=(Combobox(value='', description='Locality', options=('Acharapakkam', 'Acharapakkam R.S.',…"
      ]
     },
     "metadata": {},
     "output_type": "display_data"
    }
   ],
   "source": [
    "#locality_list = sorted(data['Village/Locality name'].unique())\n",
    "locality_list = sorted(data['CityName/AreaName'].unique())\n",
    "\n",
    "\n",
    "def show_stats_by_tag(Locality):\n",
    "    df = df1[df1['CityName/AreaName'].isin([Locality])]\n",
    "    return(display(df))\n",
    "    \n",
    "stats = interactive(show_stats_by_tag,Locality = widgets.Combobox(options=locality_list,rows=10,disabled=False))\n",
    "stats"
   ]
  }
 ],
 "metadata": {
  "kernelspec": {
   "display_name": "Python 3",
   "language": "python",
   "name": "python3"
  },
  "language_info": {
   "codemirror_mode": {
    "name": "ipython",
    "version": 3
   },
   "file_extension": ".py",
   "mimetype": "text/x-python",
   "name": "python",
   "nbconvert_exporter": "python",
   "pygments_lexer": "ipython3",
   "version": "3.8.1"
  }
 },
 "nbformat": 4,
 "nbformat_minor": 4
}
