{
 "cells": [
  {
   "cell_type": "markdown",
   "metadata": {},
   "source": [
    "### Objective:\n",
    "* Find  the distance of all localities in a city from a desired locality.\n",
    "* This can approached by computing distance between pincodes/ longtidues-latitudes"
   ]
  },
  {
   "cell_type": "markdown",
   "metadata": {},
   "source": [
    "Three methods have been used:\n",
    "1. **pgeocode** - Postal code geocoding and distance calculations\n",
    "2. **geopy** - Distance between localities using longitude & latitude\n",
    "3. **geocoder & geopy** - Get Latitude & longitude of localities & compute distance using geopy"
   ]
  },
  {
   "cell_type": "markdown",
   "metadata": {},
   "source": [
    "### Method 1: pgeocode - Postal code geocoding and distance calculations"
   ]
  },
  {
   "cell_type": "code",
   "execution_count": 3,
   "metadata": {},
   "outputs": [],
   "source": [
    "#!pip install tqdm,pgeocode,geopy,geocoder\n",
    "\n",
    "import pgeocode\n",
    "import os\n",
    "import pandas as pd\n",
    "from tqdm.notebook import tqdm_notebook\n",
    "tqdm_notebook.pandas()"
   ]
  },
  {
   "cell_type": "markdown",
   "metadata": {},
   "source": [
    "Progress of apply using tqdm - https://towardsdatascience.com/progress-bars-in-python-and-pandas-f81954d33bae"
   ]
  },
  {
   "cell_type": "code",
   "execution_count": 4,
   "metadata": {},
   "outputs": [],
   "source": [
    "path = os.getcwd()"
   ]
  },
  {
   "cell_type": "markdown",
   "metadata": {},
   "source": [
    "#### Import data - Pincode by locality in India "
   ]
  },
  {
   "cell_type": "markdown",
   "metadata": {},
   "source": [
    "Data source - Locality based Pin mapping - India https://data.gov.in/resources/villagelocality-based-pin-mapping-16th-march-2017"
   ]
  },
  {
   "cell_type": "code",
   "execution_count": 5,
   "metadata": {},
   "outputs": [],
   "source": [
    "path1 = path + '/Data1/Locality_village_pincode_final_mar-2017.csv'\n",
    "data = pd.read_csv(path1,encoding= 'unicode_escape')"
   ]
  },
  {
   "cell_type": "code",
   "execution_count": 6,
   "metadata": {},
   "outputs": [
    {
     "data": {
      "text/html": [
       "<div>\n",
       "<style scoped>\n",
       "    .dataframe tbody tr th:only-of-type {\n",
       "        vertical-align: middle;\n",
       "    }\n",
       "\n",
       "    .dataframe tbody tr th {\n",
       "        vertical-align: top;\n",
       "    }\n",
       "\n",
       "    .dataframe thead th {\n",
       "        text-align: right;\n",
       "    }\n",
       "</style>\n",
       "<table border=\"1\" class=\"dataframe\">\n",
       "  <thead>\n",
       "    <tr style=\"text-align: right;\">\n",
       "      <th></th>\n",
       "      <th>Village/Locality name</th>\n",
       "      <th>Officename ( BO/SO/HO)</th>\n",
       "      <th>Pincode</th>\n",
       "      <th>Sub-distname</th>\n",
       "      <th>Districtname</th>\n",
       "      <th>StateName</th>\n",
       "    </tr>\n",
       "  </thead>\n",
       "  <tbody>\n",
       "    <tr>\n",
       "      <th>0</th>\n",
       "      <td>Aliganj</td>\n",
       "      <td>Lodi Road H.O</td>\n",
       "      <td>110003</td>\n",
       "      <td>Defence Colony</td>\n",
       "      <td>SOUTH EAST DELHI</td>\n",
       "      <td>DELHI</td>\n",
       "    </tr>\n",
       "    <tr>\n",
       "      <th>1</th>\n",
       "      <td>Kasturba Nagar</td>\n",
       "      <td>Lodi Road H.O</td>\n",
       "      <td>110003</td>\n",
       "      <td>Defence Colony</td>\n",
       "      <td>SOUTH EAST DELHI</td>\n",
       "      <td>DELHI</td>\n",
       "    </tr>\n",
       "    <tr>\n",
       "      <th>2</th>\n",
       "      <td>Jeewan Nagar</td>\n",
       "      <td>Jungpura S.O</td>\n",
       "      <td>110014</td>\n",
       "      <td>Defence Colony</td>\n",
       "      <td>SOUTH EAST DELHI</td>\n",
       "      <td>DELHI</td>\n",
       "    </tr>\n",
       "    <tr>\n",
       "      <th>3</th>\n",
       "      <td>Tehkhand</td>\n",
       "      <td>Okhla Industrial Estate S.O</td>\n",
       "      <td>110020</td>\n",
       "      <td>Defence Colony</td>\n",
       "      <td>SOUTH EAST DELHI</td>\n",
       "      <td>DELHI</td>\n",
       "    </tr>\n",
       "    <tr>\n",
       "      <th>4</th>\n",
       "      <td>Zakir Nagar SO</td>\n",
       "      <td>New Friends Colony S.O</td>\n",
       "      <td>110025</td>\n",
       "      <td>Defence Colony</td>\n",
       "      <td>SOUTH EAST DELHI</td>\n",
       "      <td>DELHI</td>\n",
       "    </tr>\n",
       "  </tbody>\n",
       "</table>\n",
       "</div>"
      ],
      "text/plain": [
       "  Village/Locality name       Officename ( BO/SO/HO)  Pincode    Sub-distname  \\\n",
       "0               Aliganj                Lodi Road H.O   110003  Defence Colony   \n",
       "1        Kasturba Nagar                Lodi Road H.O   110003  Defence Colony   \n",
       "2          Jeewan Nagar                 Jungpura S.O   110014  Defence Colony   \n",
       "3              Tehkhand  Okhla Industrial Estate S.O   110020  Defence Colony   \n",
       "4        Zakir Nagar SO       New Friends Colony S.O   110025  Defence Colony   \n",
       "\n",
       "       Districtname StateName  \n",
       "0  SOUTH EAST DELHI     DELHI  \n",
       "1  SOUTH EAST DELHI     DELHI  \n",
       "2  SOUTH EAST DELHI     DELHI  \n",
       "3  SOUTH EAST DELHI     DELHI  \n",
       "4  SOUTH EAST DELHI     DELHI  "
      ]
     },
     "execution_count": 6,
     "metadata": {},
     "output_type": "execute_result"
    }
   ],
   "source": [
    "data.head()"
   ]
  },
  {
   "cell_type": "markdown",
   "metadata": {},
   "source": [
    "#### Apply Filters"
   ]
  },
  {
   "cell_type": "code",
   "execution_count": 7,
   "metadata": {},
   "outputs": [],
   "source": [
    "district = ['CHENNAI','KANCHIPURAM']\n",
    "data1 = data[data['Districtname'].isin(district)]"
   ]
  },
  {
   "cell_type": "code",
   "execution_count": 8,
   "metadata": {},
   "outputs": [
    {
     "data": {
      "text/html": [
       "<div>\n",
       "<style scoped>\n",
       "    .dataframe tbody tr th:only-of-type {\n",
       "        vertical-align: middle;\n",
       "    }\n",
       "\n",
       "    .dataframe tbody tr th {\n",
       "        vertical-align: top;\n",
       "    }\n",
       "\n",
       "    .dataframe thead th {\n",
       "        text-align: right;\n",
       "    }\n",
       "</style>\n",
       "<table border=\"1\" class=\"dataframe\">\n",
       "  <thead>\n",
       "    <tr style=\"text-align: right;\">\n",
       "      <th></th>\n",
       "      <th>Village/Locality name</th>\n",
       "      <th>Officename ( BO/SO/HO)</th>\n",
       "      <th>Pincode</th>\n",
       "      <th>Sub-distname</th>\n",
       "      <th>Districtname</th>\n",
       "      <th>StateName</th>\n",
       "    </tr>\n",
       "  </thead>\n",
       "  <tbody>\n",
       "    <tr>\n",
       "      <th>558410</th>\n",
       "      <td>Parrys</td>\n",
       "      <td>Chennai G.P.O.</td>\n",
       "      <td>600001</td>\n",
       "      <td>Fort - Tondiarpet</td>\n",
       "      <td>CHENNAI</td>\n",
       "      <td>TAMIL NADU</td>\n",
       "    </tr>\n",
       "    <tr>\n",
       "      <th>558411</th>\n",
       "      <td>Chennai</td>\n",
       "      <td>Anna Road H.O</td>\n",
       "      <td>600002</td>\n",
       "      <td>Egmore - Nungambakkam</td>\n",
       "      <td>CHENNAI</td>\n",
       "      <td>TAMIL NADU</td>\n",
       "    </tr>\n",
       "    <tr>\n",
       "      <th>558412</th>\n",
       "      <td>Parrys</td>\n",
       "      <td>Park Town H.O</td>\n",
       "      <td>600003</td>\n",
       "      <td>Fort - Tondiarpet</td>\n",
       "      <td>CHENNAI</td>\n",
       "      <td>TAMIL NADU</td>\n",
       "    </tr>\n",
       "    <tr>\n",
       "      <th>558413</th>\n",
       "      <td>Mylapore</td>\n",
       "      <td>Mylapore H.O</td>\n",
       "      <td>600004</td>\n",
       "      <td>Mylapore - Triplicane</td>\n",
       "      <td>CHENNAI</td>\n",
       "      <td>TAMIL NADU</td>\n",
       "    </tr>\n",
       "    <tr>\n",
       "      <th>558414</th>\n",
       "      <td>Tiruvallikkeni</td>\n",
       "      <td>Tiruvallikkeni S.O</td>\n",
       "      <td>600005</td>\n",
       "      <td>Mylapore - Triplicane</td>\n",
       "      <td>CHENNAI</td>\n",
       "      <td>TAMIL NADU</td>\n",
       "    </tr>\n",
       "  </tbody>\n",
       "</table>\n",
       "</div>"
      ],
      "text/plain": [
       "       Village/Locality name Officename ( BO/SO/HO)  Pincode  \\\n",
       "558410                Parrys         Chennai G.P.O.   600001   \n",
       "558411               Chennai          Anna Road H.O   600002   \n",
       "558412                Parrys          Park Town H.O   600003   \n",
       "558413              Mylapore           Mylapore H.O   600004   \n",
       "558414        Tiruvallikkeni     Tiruvallikkeni S.O   600005   \n",
       "\n",
       "                 Sub-distname Districtname   StateName  \n",
       "558410      Fort - Tondiarpet      CHENNAI  TAMIL NADU  \n",
       "558411  Egmore - Nungambakkam      CHENNAI  TAMIL NADU  \n",
       "558412      Fort - Tondiarpet      CHENNAI  TAMIL NADU  \n",
       "558413  Mylapore - Triplicane      CHENNAI  TAMIL NADU  \n",
       "558414  Mylapore - Triplicane      CHENNAI  TAMIL NADU  "
      ]
     },
     "execution_count": 8,
     "metadata": {},
     "output_type": "execute_result"
    }
   ],
   "source": [
    "data1.head()"
   ]
  },
  {
   "cell_type": "markdown",
   "metadata": {},
   "source": [
    "#### Postal code geocoding and distance calculations - pgeocode"
   ]
  },
  {
   "cell_type": "markdown",
   "metadata": {},
   "source": [
    "* pgeocode is a Python library for high performance off-line querying of GPS coordinates, region name and municipality name from postal codes. \n",
    "* Distances between postal codes as well as general distance queries are also supported. \n",
    "* The used GeoNames database includes postal codes for 83 countries."
   ]
  },
  {
   "cell_type": "markdown",
   "metadata": {},
   "source": [
    "https://pgeocode.readthedocs.io"
   ]
  },
  {
   "cell_type": "code",
   "execution_count": 10,
   "metadata": {},
   "outputs": [
    {
     "data": {
      "text/plain": [
       "21.82619913175519"
      ]
     },
     "execution_count": 10,
     "metadata": {},
     "output_type": "execute_result"
    }
   ],
   "source": [
    "dist = pgeocode.GeoDistance('IN') # INDIA\n",
    "\n",
    "# distance between two pincodes\n",
    "dist.query_postal_code(600119,600117) # retured distance in km"
   ]
  },
  {
   "cell_type": "markdown",
   "metadata": {},
   "source": [
    "#### Distance between pincodes"
   ]
  },
  {
   "cell_type": "code",
   "execution_count": 11,
   "metadata": {},
   "outputs": [
    {
     "data": {
      "text/html": [
       "<div>\n",
       "<style scoped>\n",
       "    .dataframe tbody tr th:only-of-type {\n",
       "        vertical-align: middle;\n",
       "    }\n",
       "\n",
       "    .dataframe tbody tr th {\n",
       "        vertical-align: top;\n",
       "    }\n",
       "\n",
       "    .dataframe thead th {\n",
       "        text-align: right;\n",
       "    }\n",
       "</style>\n",
       "<table border=\"1\" class=\"dataframe\">\n",
       "  <thead>\n",
       "    <tr style=\"text-align: right;\">\n",
       "      <th></th>\n",
       "      <th>Village/Locality name</th>\n",
       "      <th>Officename ( BO/SO/HO)</th>\n",
       "      <th>Pincode</th>\n",
       "      <th>Sub-distname</th>\n",
       "      <th>Districtname</th>\n",
       "      <th>StateName</th>\n",
       "    </tr>\n",
       "  </thead>\n",
       "  <tbody>\n",
       "    <tr>\n",
       "      <th>558661</th>\n",
       "      <td>Sholinganallur</td>\n",
       "      <td>Sholinganallur S.O</td>\n",
       "      <td>600119</td>\n",
       "      <td>Sholinganallur</td>\n",
       "      <td>KANCHIPURAM</td>\n",
       "      <td>TAMIL NADU</td>\n",
       "    </tr>\n",
       "    <tr>\n",
       "      <th>558662</th>\n",
       "      <td>Uthandi</td>\n",
       "      <td>Sholinganallur S.O</td>\n",
       "      <td>600119</td>\n",
       "      <td>Tambaram</td>\n",
       "      <td>KANCHIPURAM</td>\n",
       "      <td>TAMIL NADU</td>\n",
       "    </tr>\n",
       "  </tbody>\n",
       "</table>\n",
       "</div>"
      ],
      "text/plain": [
       "       Village/Locality name Officename ( BO/SO/HO)  Pincode    Sub-distname  \\\n",
       "558661        Sholinganallur     Sholinganallur S.O   600119  Sholinganallur   \n",
       "558662               Uthandi     Sholinganallur S.O   600119        Tambaram   \n",
       "\n",
       "       Districtname   StateName  \n",
       "558661  KANCHIPURAM  TAMIL NADU  \n",
       "558662  KANCHIPURAM  TAMIL NADU  "
      ]
     },
     "execution_count": 11,
     "metadata": {},
     "output_type": "execute_result"
    }
   ],
   "source": [
    "data1[data1['Pincode']==600119]"
   ]
  },
  {
   "cell_type": "code",
   "execution_count": 12,
   "metadata": {},
   "outputs": [],
   "source": [
    "data2 = data1"
   ]
  },
  {
   "cell_type": "code",
   "execution_count": 13,
   "metadata": {},
   "outputs": [
    {
     "name": "stdout",
     "output_type": "stream",
     "text": [
      "<class 'pandas.core.frame.DataFrame'>\n",
      "Int64Index: 1304 entries, 558410 to 601014\n",
      "Data columns (total 6 columns):\n",
      " #   Column                  Non-Null Count  Dtype \n",
      "---  ------                  --------------  ----- \n",
      " 0   Village/Locality name   1304 non-null   object\n",
      " 1   Officename ( BO/SO/HO)  1304 non-null   object\n",
      " 2   Pincode                 1304 non-null   int64 \n",
      " 3   Sub-distname            1304 non-null   object\n",
      " 4   Districtname            1304 non-null   object\n",
      " 5   StateName               1304 non-null   object\n",
      "dtypes: int64(1), object(5)\n",
      "memory usage: 71.3+ KB\n"
     ]
    }
   ],
   "source": [
    "data2.info()"
   ]
  },
  {
   "cell_type": "code",
   "execution_count": 14,
   "metadata": {},
   "outputs": [],
   "source": [
    "def distancebw(x):\n",
    "    dist = pgeocode.GeoDistance('IN') # INDIA\n",
    "    dist = dist.query_postal_code(600119, x.Pincode)\n",
    "    return dist"
   ]
  },
  {
   "cell_type": "code",
   "execution_count": 15,
   "metadata": {},
   "outputs": [],
   "source": [
    "data22 = data2"
   ]
  },
  {
   "cell_type": "code",
   "execution_count": 167,
   "metadata": {},
   "outputs": [
    {
     "name": "stdout",
     "output_type": "stream",
     "text": [
      "Wall time: 7min 22s\n"
     ]
    },
    {
     "name": "stderr",
     "output_type": "stream",
     "text": [
      "<timed exec>:1: SettingWithCopyWarning: \n",
      "A value is trying to be set on a copy of a slice from a DataFrame.\n",
      "Try using .loc[row_indexer,col_indexer] = value instead\n",
      "\n",
      "See the caveats in the documentation: https://pandas.pydata.org/pandas-docs/stable/user_guide/indexing.html#returning-a-view-versus-a-copy\n"
     ]
    }
   ],
   "source": [
    "%time data22['distance(in kms)'] = data22.progress_apply(distancebw,axis=1) #7mins"
   ]
  },
  {
   "cell_type": "code",
   "execution_count": 172,
   "metadata": {},
   "outputs": [],
   "source": [
    "data22.to_csv('result.csv',index=False)"
   ]
  },
  {
   "cell_type": "code",
   "execution_count": 173,
   "metadata": {},
   "outputs": [
    {
     "data": {
      "text/html": [
       "<div>\n",
       "<style scoped>\n",
       "    .dataframe tbody tr th:only-of-type {\n",
       "        vertical-align: middle;\n",
       "    }\n",
       "\n",
       "    .dataframe tbody tr th {\n",
       "        vertical-align: top;\n",
       "    }\n",
       "\n",
       "    .dataframe thead th {\n",
       "        text-align: right;\n",
       "    }\n",
       "</style>\n",
       "<table border=\"1\" class=\"dataframe\">\n",
       "  <thead>\n",
       "    <tr style=\"text-align: right;\">\n",
       "      <th></th>\n",
       "      <th>Village/Locality name</th>\n",
       "      <th>Officename ( BO/SO/HO)</th>\n",
       "      <th>Pincode</th>\n",
       "      <th>Sub-distname</th>\n",
       "      <th>Districtname</th>\n",
       "      <th>StateName</th>\n",
       "      <th>dis from A</th>\n",
       "    </tr>\n",
       "  </thead>\n",
       "  <tbody>\n",
       "    <tr>\n",
       "      <th>558410</th>\n",
       "      <td>Parrys</td>\n",
       "      <td>Chennai G.P.O.</td>\n",
       "      <td>600001</td>\n",
       "      <td>Fort - Tondiarpet</td>\n",
       "      <td>CHENNAI</td>\n",
       "      <td>TAMIL NADU</td>\n",
       "      <td>23.079828</td>\n",
       "    </tr>\n",
       "    <tr>\n",
       "      <th>558411</th>\n",
       "      <td>Chennai</td>\n",
       "      <td>Anna Road H.O</td>\n",
       "      <td>600002</td>\n",
       "      <td>Egmore - Nungambakkam</td>\n",
       "      <td>CHENNAI</td>\n",
       "      <td>TAMIL NADU</td>\n",
       "      <td>20.959674</td>\n",
       "    </tr>\n",
       "    <tr>\n",
       "      <th>558412</th>\n",
       "      <td>Parrys</td>\n",
       "      <td>Park Town H.O</td>\n",
       "      <td>600003</td>\n",
       "      <td>Fort - Tondiarpet</td>\n",
       "      <td>CHENNAI</td>\n",
       "      <td>TAMIL NADU</td>\n",
       "      <td>21.121267</td>\n",
       "    </tr>\n",
       "    <tr>\n",
       "      <th>558413</th>\n",
       "      <td>Mylapore</td>\n",
       "      <td>Mylapore H.O</td>\n",
       "      <td>600004</td>\n",
       "      <td>Mylapore - Triplicane</td>\n",
       "      <td>CHENNAI</td>\n",
       "      <td>TAMIL NADU</td>\n",
       "      <td>21.121267</td>\n",
       "    </tr>\n",
       "    <tr>\n",
       "      <th>558414</th>\n",
       "      <td>Tiruvallikkeni</td>\n",
       "      <td>Tiruvallikkeni S.O</td>\n",
       "      <td>600005</td>\n",
       "      <td>Mylapore - Triplicane</td>\n",
       "      <td>CHENNAI</td>\n",
       "      <td>TAMIL NADU</td>\n",
       "      <td>19.498688</td>\n",
       "    </tr>\n",
       "  </tbody>\n",
       "</table>\n",
       "</div>"
      ],
      "text/plain": [
       "       Village/Locality name Officename ( BO/SO/HO)  Pincode  \\\n",
       "558410                Parrys         Chennai G.P.O.   600001   \n",
       "558411               Chennai          Anna Road H.O   600002   \n",
       "558412                Parrys          Park Town H.O   600003   \n",
       "558413              Mylapore           Mylapore H.O   600004   \n",
       "558414        Tiruvallikkeni     Tiruvallikkeni S.O   600005   \n",
       "\n",
       "                 Sub-distname Districtname   StateName  dis from A  \n",
       "558410      Fort - Tondiarpet      CHENNAI  TAMIL NADU   23.079828  \n",
       "558411  Egmore - Nungambakkam      CHENNAI  TAMIL NADU   20.959674  \n",
       "558412      Fort - Tondiarpet      CHENNAI  TAMIL NADU   21.121267  \n",
       "558413  Mylapore - Triplicane      CHENNAI  TAMIL NADU   21.121267  \n",
       "558414  Mylapore - Triplicane      CHENNAI  TAMIL NADU   19.498688  "
      ]
     },
     "execution_count": 173,
     "metadata": {},
     "output_type": "execute_result"
    }
   ],
   "source": [
    "data22.head()"
   ]
  },
  {
   "cell_type": "markdown",
   "metadata": {},
   "source": [
    "### Observation: \n",
    "Few distances had errors. On checking the pgeocode github repo issues, it was confirmed that there were erroneous data & hence few distances had errors"
   ]
  },
  {
   "cell_type": "markdown",
   "metadata": {},
   "source": [
    "---"
   ]
  },
  {
   "cell_type": "markdown",
   "metadata": {},
   "source": [
    "### Method 2: Distance using longitude & latitude"
   ]
  },
  {
   "cell_type": "code",
   "execution_count": 57,
   "metadata": {},
   "outputs": [],
   "source": [
    "import geopy"
   ]
  },
  {
   "cell_type": "markdown",
   "metadata": {},
   "source": [
    "#### Import data - All India Pincode list with latitude and longitude"
   ]
  },
  {
   "cell_type": "markdown",
   "metadata": {},
   "source": [
    "Data source - All India Pincode list with latitude and longitude - https://github.com/mrparveensharma/All-India-Pincode-list-with-latitude-and-longitude/blob/master/All-India-Pincode-list-with-latitude-and-longitude.csv"
   ]
  },
  {
   "cell_type": "code",
   "execution_count": 17,
   "metadata": {},
   "outputs": [],
   "source": [
    "path1 = path + '/Data1/All-India-Pincode-list-with-latitude-and-longitude.csv'\n",
    "data_longlat = pd.read_csv(path1,encoding= 'unicode_escape')"
   ]
  },
  {
   "cell_type": "code",
   "execution_count": 18,
   "metadata": {},
   "outputs": [
    {
     "data": {
      "text/html": [
       "<div>\n",
       "<style scoped>\n",
       "    .dataframe tbody tr th:only-of-type {\n",
       "        vertical-align: middle;\n",
       "    }\n",
       "\n",
       "    .dataframe tbody tr th {\n",
       "        vertical-align: top;\n",
       "    }\n",
       "\n",
       "    .dataframe thead th {\n",
       "        text-align: right;\n",
       "    }\n",
       "</style>\n",
       "<table border=\"1\" class=\"dataframe\">\n",
       "  <thead>\n",
       "    <tr style=\"text-align: right;\">\n",
       "      <th></th>\n",
       "      <th>CID</th>\n",
       "      <th>CityName/AreaName</th>\n",
       "      <th>Pincode</th>\n",
       "      <th>District</th>\n",
       "      <th>State</th>\n",
       "      <th>Latitude</th>\n",
       "      <th>Longitude</th>\n",
       "    </tr>\n",
       "  </thead>\n",
       "  <tbody>\n",
       "    <tr>\n",
       "      <th>0</th>\n",
       "      <td>1</td>\n",
       "      <td>Baroda House</td>\n",
       "      <td>110001</td>\n",
       "      <td>Central Delhi</td>\n",
       "      <td>DELHI</td>\n",
       "      <td>28.628075</td>\n",
       "      <td>77.21785</td>\n",
       "    </tr>\n",
       "    <tr>\n",
       "      <th>1</th>\n",
       "      <td>2</td>\n",
       "      <td>Bengali Market</td>\n",
       "      <td>110001</td>\n",
       "      <td>Central Delhi</td>\n",
       "      <td>DELHI</td>\n",
       "      <td>28.628075</td>\n",
       "      <td>77.21785</td>\n",
       "    </tr>\n",
       "    <tr>\n",
       "      <th>2</th>\n",
       "      <td>3</td>\n",
       "      <td>Bhagat Singh Market</td>\n",
       "      <td>110001</td>\n",
       "      <td>Central Delhi</td>\n",
       "      <td>DELHI</td>\n",
       "      <td>28.628075</td>\n",
       "      <td>77.21785</td>\n",
       "    </tr>\n",
       "    <tr>\n",
       "      <th>3</th>\n",
       "      <td>4</td>\n",
       "      <td>Connaught Place</td>\n",
       "      <td>110001</td>\n",
       "      <td>Central Delhi</td>\n",
       "      <td>DELHI</td>\n",
       "      <td>28.628075</td>\n",
       "      <td>77.21785</td>\n",
       "    </tr>\n",
       "    <tr>\n",
       "      <th>4</th>\n",
       "      <td>5</td>\n",
       "      <td>Constitution House</td>\n",
       "      <td>110001</td>\n",
       "      <td>Central Delhi</td>\n",
       "      <td>DELHI</td>\n",
       "      <td>28.628075</td>\n",
       "      <td>77.21785</td>\n",
       "    </tr>\n",
       "  </tbody>\n",
       "</table>\n",
       "</div>"
      ],
      "text/plain": [
       "   CID    CityName/AreaName  Pincode       District  State   Latitude  \\\n",
       "0    1         Baroda House   110001  Central Delhi  DELHI  28.628075   \n",
       "1    2       Bengali Market   110001  Central Delhi  DELHI  28.628075   \n",
       "2    3  Bhagat Singh Market   110001  Central Delhi  DELHI  28.628075   \n",
       "3    4      Connaught Place   110001  Central Delhi  DELHI  28.628075   \n",
       "4    5   Constitution House   110001  Central Delhi  DELHI  28.628075   \n",
       "\n",
       "   Longitude  \n",
       "0   77.21785  \n",
       "1   77.21785  \n",
       "2   77.21785  \n",
       "3   77.21785  \n",
       "4   77.21785  "
      ]
     },
     "execution_count": 18,
     "metadata": {},
     "output_type": "execute_result"
    }
   ],
   "source": [
    "data_longlat.head()"
   ]
  },
  {
   "cell_type": "markdown",
   "metadata": {},
   "source": [
    "#### Apply Filters"
   ]
  },
  {
   "cell_type": "code",
   "execution_count": 47,
   "metadata": {},
   "outputs": [],
   "source": [
    "district_list = ['Chennai', 'Kanchipuram']\n",
    "data1_longlat = data_longlat[data_longlat['District'].isin(district_list)]"
   ]
  },
  {
   "cell_type": "code",
   "execution_count": 48,
   "metadata": {},
   "outputs": [
    {
     "name": "stdout",
     "output_type": "stream",
     "text": [
      "<class 'pandas.core.frame.DataFrame'>\n",
      "Int64Index: 593 entries, 101464 to 109748\n",
      "Data columns (total 7 columns):\n",
      " #   Column             Non-Null Count  Dtype  \n",
      "---  ------             --------------  -----  \n",
      " 0   CID                593 non-null    int64  \n",
      " 1   CityName/AreaName  593 non-null    object \n",
      " 2   Pincode            593 non-null    int64  \n",
      " 3   District           593 non-null    object \n",
      " 4   State              593 non-null    object \n",
      " 5   Latitude           546 non-null    float64\n",
      " 6   Longitude          546 non-null    float64\n",
      "dtypes: float64(2), int64(2), object(3)\n",
      "memory usage: 37.1+ KB\n"
     ]
    }
   ],
   "source": [
    "data1_longlat.info()"
   ]
  },
  {
   "cell_type": "code",
   "execution_count": 37,
   "metadata": {},
   "outputs": [],
   "source": [
    "data1_longlat = data1_longlat.dropna() # remove null"
   ]
  },
  {
   "cell_type": "code",
   "execution_count": 40,
   "metadata": {},
   "outputs": [
    {
     "data": {
      "text/html": [
       "<div>\n",
       "<style scoped>\n",
       "    .dataframe tbody tr th:only-of-type {\n",
       "        vertical-align: middle;\n",
       "    }\n",
       "\n",
       "    .dataframe tbody tr th {\n",
       "        vertical-align: top;\n",
       "    }\n",
       "\n",
       "    .dataframe thead th {\n",
       "        text-align: right;\n",
       "    }\n",
       "</style>\n",
       "<table border=\"1\" class=\"dataframe\">\n",
       "  <thead>\n",
       "    <tr style=\"text-align: right;\">\n",
       "      <th></th>\n",
       "      <th>CID</th>\n",
       "      <th>CityName/AreaName</th>\n",
       "      <th>Pincode</th>\n",
       "      <th>District</th>\n",
       "      <th>State</th>\n",
       "      <th>Latitude</th>\n",
       "      <th>Longitude</th>\n",
       "    </tr>\n",
       "  </thead>\n",
       "  <tbody>\n",
       "    <tr>\n",
       "      <th>101741</th>\n",
       "      <td>101742</td>\n",
       "      <td>Injambakkam</td>\n",
       "      <td>600115</td>\n",
       "      <td>Kanchipuram</td>\n",
       "      <td>TAMIL NADU</td>\n",
       "      <td>12.950784</td>\n",
       "      <td>80.255188</td>\n",
       "    </tr>\n",
       "  </tbody>\n",
       "</table>\n",
       "</div>"
      ],
      "text/plain": [
       "           CID CityName/AreaName  Pincode     District       State   Latitude  \\\n",
       "101741  101742       Injambakkam   600115  Kanchipuram  TAMIL NADU  12.950784   \n",
       "\n",
       "        Longitude  \n",
       "101741  80.255188  "
      ]
     },
     "execution_count": 40,
     "metadata": {},
     "output_type": "execute_result"
    }
   ],
   "source": [
    "data1_longlat[data1_longlat['Pincode'] == 600115]"
   ]
  },
  {
   "cell_type": "markdown",
   "metadata": {},
   "source": [
    "#### Distance using longitude & latitude\n",
    "##### Example"
   ]
  },
  {
   "cell_type": "code",
   "execution_count": 41,
   "metadata": {},
   "outputs": [
    {
     "name": "stdout",
     "output_type": "stream",
     "text": [
      "1318.13891581683\n"
     ]
    }
   ],
   "source": [
    "# Importing the geodesic module from the library \n",
    "from geopy.distance import geodesic \n",
    "  \n",
    "# Loading the lat-long data for Kolkata & Delhi \n",
    "kolkata = (22.5726, 88.3639) \n",
    "delhi = (28.7041, 77.1025) \n",
    "  \n",
    "# Print the distance calculated in km \n",
    "print(geodesic(kolkata, delhi).km) "
   ]
  },
  {
   "cell_type": "code",
   "execution_count": 42,
   "metadata": {},
   "outputs": [],
   "source": [
    "def distancebw1(x):\n",
    "    # Loading the lat-long data for Kolkata & Delhi \n",
    "    place = (x['Latitude'],x['Longitude'])\n",
    "    injambakkam = (12.950784, 80.255188) \n",
    "\n",
    "    # Print the distance calculated in km \n",
    "    return(geodesic(place, injambakkam).km) "
   ]
  },
  {
   "cell_type": "code",
   "execution_count": 104,
   "metadata": {},
   "outputs": [
    {
     "name": "stdout",
     "output_type": "stream",
     "text": [
      "17.289281309550788 km\n",
      "8.101974805309982 km\n"
     ]
    }
   ],
   "source": [
    "# From google search\n",
    "from geopy.distance import geodesic\n",
    "inj = (12.9198, 80.2511)\n",
    "chin = (13.0750, 80.2698)\n",
    "print(geodesic(inj, chin))\n",
    "\n",
    "# From csv\n",
    "inj = (12.95078373,80.25518799)\n",
    "chin = (13.02393532,80.25163269)\n",
    "print(geodesic(inj, chin))"
   ]
  },
  {
   "cell_type": "code",
   "execution_count": 43,
   "metadata": {},
   "outputs": [],
   "source": [
    "data2_longlat = data1_longlat"
   ]
  },
  {
   "cell_type": "code",
   "execution_count": 44,
   "metadata": {},
   "outputs": [
    {
     "name": "stdout",
     "output_type": "stream",
     "text": [
      "Wall time: 424 ms\n"
     ]
    },
    {
     "name": "stderr",
     "output_type": "stream",
     "text": [
      "<timed exec>:1: SettingWithCopyWarning: \n",
      "A value is trying to be set on a copy of a slice from a DataFrame.\n",
      "Try using .loc[row_indexer,col_indexer] = value instead\n",
      "\n",
      "See the caveats in the documentation: https://pandas.pydata.org/pandas-docs/stable/user_guide/indexing.html#returning-a-view-versus-a-copy\n"
     ]
    }
   ],
   "source": [
    "%time data2_longlat['distance(in kms)'] = data2_longlat.progress_apply(distancebw1,axis=1) #424ms"
   ]
  },
  {
   "cell_type": "code",
   "execution_count": 46,
   "metadata": {},
   "outputs": [
    {
     "data": {
      "text/html": [
       "<div>\n",
       "<style scoped>\n",
       "    .dataframe tbody tr th:only-of-type {\n",
       "        vertical-align: middle;\n",
       "    }\n",
       "\n",
       "    .dataframe tbody tr th {\n",
       "        vertical-align: top;\n",
       "    }\n",
       "\n",
       "    .dataframe thead th {\n",
       "        text-align: right;\n",
       "    }\n",
       "</style>\n",
       "<table border=\"1\" class=\"dataframe\">\n",
       "  <thead>\n",
       "    <tr style=\"text-align: right;\">\n",
       "      <th></th>\n",
       "      <th>CID</th>\n",
       "      <th>CityName/AreaName</th>\n",
       "      <th>Pincode</th>\n",
       "      <th>District</th>\n",
       "      <th>State</th>\n",
       "      <th>Latitude</th>\n",
       "      <th>Longitude</th>\n",
       "      <th>distance(in kms)</th>\n",
       "    </tr>\n",
       "  </thead>\n",
       "  <tbody>\n",
       "    <tr>\n",
       "      <th>101464</th>\n",
       "      <td>101465</td>\n",
       "      <td>Flower Bazaar</td>\n",
       "      <td>600001</td>\n",
       "      <td>Chennai</td>\n",
       "      <td>TAMIL NADU</td>\n",
       "      <td>13.079564</td>\n",
       "      <td>80.266045</td>\n",
       "      <td>14.295615</td>\n",
       "    </tr>\n",
       "    <tr>\n",
       "      <th>101465</th>\n",
       "      <td>101466</td>\n",
       "      <td>Govt Stanley Hospital</td>\n",
       "      <td>600001</td>\n",
       "      <td>Chennai</td>\n",
       "      <td>TAMIL NADU</td>\n",
       "      <td>13.079564</td>\n",
       "      <td>80.266045</td>\n",
       "      <td>14.295615</td>\n",
       "    </tr>\n",
       "    <tr>\n",
       "      <th>101466</th>\n",
       "      <td>101467</td>\n",
       "      <td>Mannady (Chennai)</td>\n",
       "      <td>600001</td>\n",
       "      <td>Chennai</td>\n",
       "      <td>TAMIL NADU</td>\n",
       "      <td>13.079564</td>\n",
       "      <td>80.266045</td>\n",
       "      <td>14.295615</td>\n",
       "    </tr>\n",
       "    <tr>\n",
       "      <th>101467</th>\n",
       "      <td>101468</td>\n",
       "      <td>Mint Building</td>\n",
       "      <td>600001</td>\n",
       "      <td>Chennai</td>\n",
       "      <td>TAMIL NADU</td>\n",
       "      <td>13.079564</td>\n",
       "      <td>80.266045</td>\n",
       "      <td>14.295615</td>\n",
       "    </tr>\n",
       "    <tr>\n",
       "      <th>101468</th>\n",
       "      <td>101469</td>\n",
       "      <td>MPT AO</td>\n",
       "      <td>600001</td>\n",
       "      <td>Chennai</td>\n",
       "      <td>TAMIL NADU</td>\n",
       "      <td>13.079564</td>\n",
       "      <td>80.266045</td>\n",
       "      <td>14.295615</td>\n",
       "    </tr>\n",
       "  </tbody>\n",
       "</table>\n",
       "</div>"
      ],
      "text/plain": [
       "           CID      CityName/AreaName  Pincode District       State  \\\n",
       "101464  101465          Flower Bazaar   600001  Chennai  TAMIL NADU   \n",
       "101465  101466  Govt Stanley Hospital   600001  Chennai  TAMIL NADU   \n",
       "101466  101467      Mannady (Chennai)   600001  Chennai  TAMIL NADU   \n",
       "101467  101468          Mint Building   600001  Chennai  TAMIL NADU   \n",
       "101468  101469                 MPT AO   600001  Chennai  TAMIL NADU   \n",
       "\n",
       "         Latitude  Longitude  distance(in kms)  \n",
       "101464  13.079564  80.266045         14.295615  \n",
       "101465  13.079564  80.266045         14.295615  \n",
       "101466  13.079564  80.266045         14.295615  \n",
       "101467  13.079564  80.266045         14.295615  \n",
       "101468  13.079564  80.266045         14.295615  "
      ]
     },
     "execution_count": 46,
     "metadata": {},
     "output_type": "execute_result"
    }
   ],
   "source": [
    "data2_longlat.head()"
   ]
  },
  {
   "cell_type": "code",
   "execution_count": 47,
   "metadata": {},
   "outputs": [],
   "source": [
    "data2_longlat.to_csv('result1.csv',index=False)"
   ]
  },
  {
   "cell_type": "markdown",
   "metadata": {},
   "source": [
    "### Observation: \n",
    "The latitude & longitude has errors & is same for many locations. So the data has to improved for correct distances."
   ]
  },
  {
   "cell_type": "markdown",
   "metadata": {},
   "source": [
    "---"
   ]
  },
  {
   "cell_type": "markdown",
   "metadata": {},
   "source": [
    "###  Method 3: Latitude & longitude using Geocoder"
   ]
  },
  {
   "cell_type": "markdown",
   "metadata": {},
   "source": [
    "* https://geocoder.readthedocs.io/\n",
    "* https://github.com/DenisCarriere/geocoder#a-glimpse-at-the-api\n",
    "* https://geocoder.readthedocs.io/providers/ArcGIS.html"
   ]
  },
  {
   "cell_type": "code",
   "execution_count": 52,
   "metadata": {},
   "outputs": [],
   "source": [
    "import geocoder\n",
    "from tqdm.notebook import tqdm_notebook\n",
    "tqdm_notebook.pandas()"
   ]
  },
  {
   "cell_type": "code",
   "execution_count": 30,
   "metadata": {},
   "outputs": [
    {
     "data": {
      "text/plain": [
       "{'address': 'Injambakkam, Chennai, Kancheepuram, Tamil Nadu',\n",
       " 'bbox': {'northeast': [12.936370000000077, 80.26025000000006],\n",
       "  'southwest': [12.916370000000077, 80.24025000000005]},\n",
       " 'confidence': 7,\n",
       " 'lat': 12.926370000000077,\n",
       " 'lng': 80.25025000000005,\n",
       " 'ok': True,\n",
       " 'quality': 'Locality',\n",
       " 'raw': {'name': 'Injambakkam, Chennai, Kancheepuram, Tamil Nadu',\n",
       "  'extent': {'xmin': 80.24025000000005,\n",
       "   'ymin': 12.916370000000077,\n",
       "   'xmax': 80.26025000000006,\n",
       "   'ymax': 12.936370000000077},\n",
       "  'feature': {'geometry': {'x': 80.25025000000005, 'y': 12.926370000000077},\n",
       "   'attributes': {'Score': 100, 'Addr_Type': 'Locality'}}},\n",
       " 'score': 100,\n",
       " 'status': 'OK'}"
      ]
     },
     "execution_count": 30,
     "metadata": {},
     "output_type": "execute_result"
    }
   ],
   "source": [
    "# Json\n",
    "g = geocoder.arcgis('Injambakkam')\n",
    "g.json"
   ]
  },
  {
   "cell_type": "code",
   "execution_count": 31,
   "metadata": {},
   "outputs": [
    {
     "name": "stdout",
     "output_type": "stream",
     "text": [
      "Injambakkam, Chennai, Kancheepuram, Tamil Nadu\n",
      "12.926370000000077\n",
      "80.25025000000005\n"
     ]
    }
   ],
   "source": [
    "# Co.ordinates of Injambakkam\n",
    "g = geocoder.arcgis('Injambakkam,Chennai,TAMIL NADU')\n",
    "print(g.address)\n",
    "print(g.lat)\n",
    "print(g.lng)"
   ]
  },
  {
   "cell_type": "markdown",
   "metadata": {},
   "source": [
    "#### Import data - All India Pincode list with latitude and longitude\n",
    "\n",
    "Data source - All India Pincode list with latitude and longitude - https://github.com/mrparveensharma/All-India-Pincode-list-with-latitude-and-longitude/blob/master/All-India-Pincode-list-with-latitude-and-longitude.csv"
   ]
  },
  {
   "cell_type": "code",
   "execution_count": 22,
   "metadata": {},
   "outputs": [],
   "source": [
    "path1 = path + '/Data1/All-India-Locailty-Pincode-list.csv'\n",
    "df = pd.read_csv(path1,encoding= 'unicode_escape')"
   ]
  },
  {
   "cell_type": "code",
   "execution_count": 23,
   "metadata": {},
   "outputs": [
    {
     "data": {
      "text/html": [
       "<div>\n",
       "<style scoped>\n",
       "    .dataframe tbody tr th:only-of-type {\n",
       "        vertical-align: middle;\n",
       "    }\n",
       "\n",
       "    .dataframe tbody tr th {\n",
       "        vertical-align: top;\n",
       "    }\n",
       "\n",
       "    .dataframe thead th {\n",
       "        text-align: right;\n",
       "    }\n",
       "</style>\n",
       "<table border=\"1\" class=\"dataframe\">\n",
       "  <thead>\n",
       "    <tr style=\"text-align: right;\">\n",
       "      <th></th>\n",
       "      <th>CID</th>\n",
       "      <th>CityName/AreaName</th>\n",
       "      <th>Pincode</th>\n",
       "      <th>District</th>\n",
       "      <th>State</th>\n",
       "    </tr>\n",
       "  </thead>\n",
       "  <tbody>\n",
       "    <tr>\n",
       "      <th>0</th>\n",
       "      <td>1</td>\n",
       "      <td>Baroda House</td>\n",
       "      <td>110001</td>\n",
       "      <td>Central Delhi</td>\n",
       "      <td>DELHI</td>\n",
       "    </tr>\n",
       "    <tr>\n",
       "      <th>1</th>\n",
       "      <td>2</td>\n",
       "      <td>Bengali Market</td>\n",
       "      <td>110001</td>\n",
       "      <td>Central Delhi</td>\n",
       "      <td>DELHI</td>\n",
       "    </tr>\n",
       "    <tr>\n",
       "      <th>2</th>\n",
       "      <td>3</td>\n",
       "      <td>Bhagat Singh Market</td>\n",
       "      <td>110001</td>\n",
       "      <td>Central Delhi</td>\n",
       "      <td>DELHI</td>\n",
       "    </tr>\n",
       "    <tr>\n",
       "      <th>3</th>\n",
       "      <td>4</td>\n",
       "      <td>Connaught Place</td>\n",
       "      <td>110001</td>\n",
       "      <td>Central Delhi</td>\n",
       "      <td>DELHI</td>\n",
       "    </tr>\n",
       "    <tr>\n",
       "      <th>4</th>\n",
       "      <td>5</td>\n",
       "      <td>Constitution House</td>\n",
       "      <td>110001</td>\n",
       "      <td>Central Delhi</td>\n",
       "      <td>DELHI</td>\n",
       "    </tr>\n",
       "  </tbody>\n",
       "</table>\n",
       "</div>"
      ],
      "text/plain": [
       "   CID    CityName/AreaName  Pincode       District  State\n",
       "0    1         Baroda House   110001  Central Delhi  DELHI\n",
       "1    2       Bengali Market   110001  Central Delhi  DELHI\n",
       "2    3  Bhagat Singh Market   110001  Central Delhi  DELHI\n",
       "3    4      Connaught Place   110001  Central Delhi  DELHI\n",
       "4    5   Constitution House   110001  Central Delhi  DELHI"
      ]
     },
     "execution_count": 23,
     "metadata": {},
     "output_type": "execute_result"
    }
   ],
   "source": [
    "df.head()"
   ]
  },
  {
   "cell_type": "code",
   "execution_count": 24,
   "metadata": {},
   "outputs": [],
   "source": [
    "district_list = ['Chennai', 'Kanchipuram']\n",
    "df = df[df['District'].isin(district_list)]"
   ]
  },
  {
   "cell_type": "code",
   "execution_count": 25,
   "metadata": {},
   "outputs": [],
   "source": [
    "df['Locality'] = df[['CityName/AreaName', 'Pincode', 'District', 'State']].apply(lambda x: ','.join(x.fillna('').map(str)), axis=1)"
   ]
  },
  {
   "cell_type": "code",
   "execution_count": 26,
   "metadata": {},
   "outputs": [
    {
     "data": {
      "text/html": [
       "<div>\n",
       "<style scoped>\n",
       "    .dataframe tbody tr th:only-of-type {\n",
       "        vertical-align: middle;\n",
       "    }\n",
       "\n",
       "    .dataframe tbody tr th {\n",
       "        vertical-align: top;\n",
       "    }\n",
       "\n",
       "    .dataframe thead th {\n",
       "        text-align: right;\n",
       "    }\n",
       "</style>\n",
       "<table border=\"1\" class=\"dataframe\">\n",
       "  <thead>\n",
       "    <tr style=\"text-align: right;\">\n",
       "      <th></th>\n",
       "      <th>CID</th>\n",
       "      <th>CityName/AreaName</th>\n",
       "      <th>Pincode</th>\n",
       "      <th>District</th>\n",
       "      <th>State</th>\n",
       "      <th>Locality</th>\n",
       "    </tr>\n",
       "  </thead>\n",
       "  <tbody>\n",
       "    <tr>\n",
       "      <th>101464</th>\n",
       "      <td>101465</td>\n",
       "      <td>Flower Bazaar</td>\n",
       "      <td>600001</td>\n",
       "      <td>Chennai</td>\n",
       "      <td>TAMIL NADU</td>\n",
       "      <td>Flower Bazaar,600001,Chennai,TAMIL NADU</td>\n",
       "    </tr>\n",
       "    <tr>\n",
       "      <th>101465</th>\n",
       "      <td>101466</td>\n",
       "      <td>Govt Stanley Hospital</td>\n",
       "      <td>600001</td>\n",
       "      <td>Chennai</td>\n",
       "      <td>TAMIL NADU</td>\n",
       "      <td>Govt Stanley Hospital,600001,Chennai,TAMIL NADU</td>\n",
       "    </tr>\n",
       "    <tr>\n",
       "      <th>101466</th>\n",
       "      <td>101467</td>\n",
       "      <td>Mannady (Chennai)</td>\n",
       "      <td>600001</td>\n",
       "      <td>Chennai</td>\n",
       "      <td>TAMIL NADU</td>\n",
       "      <td>Mannady (Chennai),600001,Chennai,TAMIL NADU</td>\n",
       "    </tr>\n",
       "    <tr>\n",
       "      <th>101467</th>\n",
       "      <td>101468</td>\n",
       "      <td>Mint Building</td>\n",
       "      <td>600001</td>\n",
       "      <td>Chennai</td>\n",
       "      <td>TAMIL NADU</td>\n",
       "      <td>Mint Building,600001,Chennai,TAMIL NADU</td>\n",
       "    </tr>\n",
       "    <tr>\n",
       "      <th>101468</th>\n",
       "      <td>101469</td>\n",
       "      <td>MPT AO</td>\n",
       "      <td>600001</td>\n",
       "      <td>Chennai</td>\n",
       "      <td>TAMIL NADU</td>\n",
       "      <td>MPT AO,600001,Chennai,TAMIL NADU</td>\n",
       "    </tr>\n",
       "  </tbody>\n",
       "</table>\n",
       "</div>"
      ],
      "text/plain": [
       "           CID      CityName/AreaName  Pincode District       State  \\\n",
       "101464  101465          Flower Bazaar   600001  Chennai  TAMIL NADU   \n",
       "101465  101466  Govt Stanley Hospital   600001  Chennai  TAMIL NADU   \n",
       "101466  101467      Mannady (Chennai)   600001  Chennai  TAMIL NADU   \n",
       "101467  101468          Mint Building   600001  Chennai  TAMIL NADU   \n",
       "101468  101469                 MPT AO   600001  Chennai  TAMIL NADU   \n",
       "\n",
       "                                               Locality  \n",
       "101464          Flower Bazaar,600001,Chennai,TAMIL NADU  \n",
       "101465  Govt Stanley Hospital,600001,Chennai,TAMIL NADU  \n",
       "101466      Mannady (Chennai),600001,Chennai,TAMIL NADU  \n",
       "101467          Mint Building,600001,Chennai,TAMIL NADU  \n",
       "101468                 MPT AO,600001,Chennai,TAMIL NADU  "
      ]
     },
     "execution_count": 26,
     "metadata": {},
     "output_type": "execute_result"
    }
   ],
   "source": [
    "df.head()"
   ]
  },
  {
   "cell_type": "code",
   "execution_count": 42,
   "metadata": {},
   "outputs": [],
   "source": [
    "def location(x):\n",
    "    g = geocoder.arcgis(x['Locality'])\n",
    "    return g.address\n",
    "\n",
    "def lat(x):\n",
    "    g = geocoder.arcgis(x['Locality'])\n",
    "    return g.lat\n",
    "\n",
    "def lng(x):\n",
    "    g = geocoder.arcgis(x['Locality'])\n",
    "    return g.lng\n",
    "\n",
    "\n",
    "def latlong(x):\n",
    "    g = geocoder.arcgis(x['Locality'])\n",
    "    x['Location'] = g.address\n",
    "    x['Latitude'] = g.lat\n",
    "    x['Longitude'] = g.lng\n",
    "    return x"
   ]
  },
  {
   "cell_type": "code",
   "execution_count": 46,
   "metadata": {},
   "outputs": [
    {
     "name": "stdout",
     "output_type": "stream",
     "text": [
      "Requirement already satisfied: tqdm in c:\\users\\1011696\\appdata\\local\\continuum\\anaconda3\\envs\\test\\lib\\site-packages (4.46.0)\n"
     ]
    }
   ],
   "source": [
    "!pip install tqdm"
   ]
  },
  {
   "cell_type": "code",
   "execution_count": 54,
   "metadata": {},
   "outputs": [
    {
     "data": {
      "application/vnd.jupyter.widget-view+json": {
       "model_id": "2dc409c48e4a406a8df84a9506a9708c",
       "version_major": 2,
       "version_minor": 0
      },
      "text/plain": [
       "HBox(children=(FloatProgress(value=0.0, max=593.0), HTML(value='')))"
      ]
     },
     "metadata": {},
     "output_type": "display_data"
    },
    {
     "name": "stdout",
     "output_type": "stream",
     "text": [
      "\n",
      "Wall time: 12min 3s\n"
     ]
    }
   ],
   "source": [
    "%time df = df.progress_apply(latlong,axis=1) #12min 3s"
   ]
  },
  {
   "cell_type": "code",
   "execution_count": 55,
   "metadata": {},
   "outputs": [
    {
     "data": {
      "text/html": [
       "<div>\n",
       "<style scoped>\n",
       "    .dataframe tbody tr th:only-of-type {\n",
       "        vertical-align: middle;\n",
       "    }\n",
       "\n",
       "    .dataframe tbody tr th {\n",
       "        vertical-align: top;\n",
       "    }\n",
       "\n",
       "    .dataframe thead th {\n",
       "        text-align: right;\n",
       "    }\n",
       "</style>\n",
       "<table border=\"1\" class=\"dataframe\">\n",
       "  <thead>\n",
       "    <tr style=\"text-align: right;\">\n",
       "      <th></th>\n",
       "      <th>CID</th>\n",
       "      <th>CityName/AreaName</th>\n",
       "      <th>Pincode</th>\n",
       "      <th>District</th>\n",
       "      <th>State</th>\n",
       "      <th>Locality</th>\n",
       "      <th>Location</th>\n",
       "      <th>Latitude</th>\n",
       "      <th>Longitude</th>\n",
       "    </tr>\n",
       "  </thead>\n",
       "  <tbody>\n",
       "    <tr>\n",
       "      <th>101464</th>\n",
       "      <td>101465</td>\n",
       "      <td>Flower Bazaar</td>\n",
       "      <td>600001</td>\n",
       "      <td>Chennai</td>\n",
       "      <td>TAMIL NADU</td>\n",
       "      <td>Flower Bazaar,600001,Chennai,TAMIL NADU</td>\n",
       "      <td>Flower Bazaar Chowk, George Town, Chennai, Tam...</td>\n",
       "      <td>13.088194</td>\n",
       "      <td>80.281455</td>\n",
       "    </tr>\n",
       "    <tr>\n",
       "      <th>101465</th>\n",
       "      <td>101466</td>\n",
       "      <td>Govt Stanley Hospital</td>\n",
       "      <td>600001</td>\n",
       "      <td>Chennai</td>\n",
       "      <td>TAMIL NADU</td>\n",
       "      <td>Govt Stanley Hospital,600001,Chennai,TAMIL NADU</td>\n",
       "      <td>Blood Bank-Government Stanley Hospital</td>\n",
       "      <td>13.105560</td>\n",
       "      <td>80.286480</td>\n",
       "    </tr>\n",
       "    <tr>\n",
       "      <th>101466</th>\n",
       "      <td>101467</td>\n",
       "      <td>Mannady (Chennai)</td>\n",
       "      <td>600001</td>\n",
       "      <td>Chennai</td>\n",
       "      <td>TAMIL NADU</td>\n",
       "      <td>Mannady (Chennai),600001,Chennai,TAMIL NADU</td>\n",
       "      <td>Mannady, George Town, Chennai, Tamil Nadu</td>\n",
       "      <td>13.100870</td>\n",
       "      <td>80.293800</td>\n",
       "    </tr>\n",
       "    <tr>\n",
       "      <th>101467</th>\n",
       "      <td>101468</td>\n",
       "      <td>Mint Building</td>\n",
       "      <td>600001</td>\n",
       "      <td>Chennai</td>\n",
       "      <td>TAMIL NADU</td>\n",
       "      <td>Mint Building,600001,Chennai,TAMIL NADU</td>\n",
       "      <td>T. N. K. Buildings</td>\n",
       "      <td>13.084710</td>\n",
       "      <td>80.278190</td>\n",
       "    </tr>\n",
       "    <tr>\n",
       "      <th>101468</th>\n",
       "      <td>101469</td>\n",
       "      <td>MPT AO</td>\n",
       "      <td>600001</td>\n",
       "      <td>Chennai</td>\n",
       "      <td>TAMIL NADU</td>\n",
       "      <td>MPT AO,600001,Chennai,TAMIL NADU</td>\n",
       "      <td>600001</td>\n",
       "      <td>13.093700</td>\n",
       "      <td>80.295838</td>\n",
       "    </tr>\n",
       "  </tbody>\n",
       "</table>\n",
       "</div>"
      ],
      "text/plain": [
       "           CID      CityName/AreaName  Pincode District       State  \\\n",
       "101464  101465          Flower Bazaar   600001  Chennai  TAMIL NADU   \n",
       "101465  101466  Govt Stanley Hospital   600001  Chennai  TAMIL NADU   \n",
       "101466  101467      Mannady (Chennai)   600001  Chennai  TAMIL NADU   \n",
       "101467  101468          Mint Building   600001  Chennai  TAMIL NADU   \n",
       "101468  101469                 MPT AO   600001  Chennai  TAMIL NADU   \n",
       "\n",
       "                                               Locality  \\\n",
       "101464          Flower Bazaar,600001,Chennai,TAMIL NADU   \n",
       "101465  Govt Stanley Hospital,600001,Chennai,TAMIL NADU   \n",
       "101466      Mannady (Chennai),600001,Chennai,TAMIL NADU   \n",
       "101467          Mint Building,600001,Chennai,TAMIL NADU   \n",
       "101468                 MPT AO,600001,Chennai,TAMIL NADU   \n",
       "\n",
       "                                                 Location   Latitude  \\\n",
       "101464  Flower Bazaar Chowk, George Town, Chennai, Tam...  13.088194   \n",
       "101465             Blood Bank-Government Stanley Hospital  13.105560   \n",
       "101466          Mannady, George Town, Chennai, Tamil Nadu  13.100870   \n",
       "101467                                 T. N. K. Buildings  13.084710   \n",
       "101468                                             600001  13.093700   \n",
       "\n",
       "        Longitude  \n",
       "101464  80.281455  \n",
       "101465  80.286480  \n",
       "101466  80.293800  \n",
       "101467  80.278190  \n",
       "101468  80.295838  "
      ]
     },
     "execution_count": 55,
     "metadata": {},
     "output_type": "execute_result"
    }
   ],
   "source": [
    "df.head()"
   ]
  },
  {
   "cell_type": "code",
   "execution_count": 56,
   "metadata": {},
   "outputs": [
    {
     "name": "stdout",
     "output_type": "stream",
     "text": [
      "<class 'pandas.core.frame.DataFrame'>\n",
      "Int64Index: 593 entries, 101464 to 109748\n",
      "Data columns (total 9 columns):\n",
      " #   Column             Non-Null Count  Dtype  \n",
      "---  ------             --------------  -----  \n",
      " 0   CID                593 non-null    int64  \n",
      " 1   CityName/AreaName  593 non-null    object \n",
      " 2   Pincode            593 non-null    int64  \n",
      " 3   District           593 non-null    object \n",
      " 4   State              593 non-null    object \n",
      " 5   Locality           593 non-null    object \n",
      " 6   Location           593 non-null    object \n",
      " 7   Latitude           593 non-null    float64\n",
      " 8   Longitude          593 non-null    float64\n",
      "dtypes: float64(2), int64(2), object(5)\n",
      "memory usage: 46.3+ KB\n"
     ]
    }
   ],
   "source": [
    "df.info()"
   ]
  },
  {
   "cell_type": "code",
   "execution_count": 64,
   "metadata": {},
   "outputs": [
    {
     "data": {
      "text/html": [
       "<div>\n",
       "<style scoped>\n",
       "    .dataframe tbody tr th:only-of-type {\n",
       "        vertical-align: middle;\n",
       "    }\n",
       "\n",
       "    .dataframe tbody tr th {\n",
       "        vertical-align: top;\n",
       "    }\n",
       "\n",
       "    .dataframe thead th {\n",
       "        text-align: right;\n",
       "    }\n",
       "</style>\n",
       "<table border=\"1\" class=\"dataframe\">\n",
       "  <thead>\n",
       "    <tr style=\"text-align: right;\">\n",
       "      <th></th>\n",
       "      <th>CID</th>\n",
       "      <th>CityName/AreaName</th>\n",
       "      <th>Pincode</th>\n",
       "      <th>District</th>\n",
       "      <th>State</th>\n",
       "      <th>Locality</th>\n",
       "      <th>Location</th>\n",
       "      <th>Latitude</th>\n",
       "      <th>Longitude</th>\n",
       "    </tr>\n",
       "  </thead>\n",
       "  <tbody>\n",
       "    <tr>\n",
       "      <th>101741</th>\n",
       "      <td>101742</td>\n",
       "      <td>Injambakkam</td>\n",
       "      <td>600115</td>\n",
       "      <td>Kanchipuram</td>\n",
       "      <td>TAMIL NADU</td>\n",
       "      <td>Injambakkam,600115,Kanchipuram,TAMIL NADU</td>\n",
       "      <td>600115, Injambakkam, Chennai, Kancheepuram, Ta...</td>\n",
       "      <td>12.923007</td>\n",
       "      <td>80.250555</td>\n",
       "    </tr>\n",
       "  </tbody>\n",
       "</table>\n",
       "</div>"
      ],
      "text/plain": [
       "           CID CityName/AreaName  Pincode     District       State  \\\n",
       "101741  101742       Injambakkam   600115  Kanchipuram  TAMIL NADU   \n",
       "\n",
       "                                         Locality  \\\n",
       "101741  Injambakkam,600115,Kanchipuram,TAMIL NADU   \n",
       "\n",
       "                                                 Location   Latitude  \\\n",
       "101741  600115, Injambakkam, Chennai, Kancheepuram, Ta...  12.923007   \n",
       "\n",
       "        Longitude  \n",
       "101741  80.250555  "
      ]
     },
     "execution_count": 64,
     "metadata": {},
     "output_type": "execute_result"
    }
   ],
   "source": [
    "df[df['Pincode']==600115]"
   ]
  },
  {
   "cell_type": "code",
   "execution_count": 63,
   "metadata": {},
   "outputs": [
    {
     "name": "stdout",
     "output_type": "stream",
     "text": [
      "17.289281309550788 km\n",
      "16.308396141019735 km\n"
     ]
    }
   ],
   "source": [
    "# From google search\n",
    "from geopy.distance import geodesic\n",
    "inj = (12.9198, 80.2511)\n",
    "chin = (13.0750, 80.2698)\n",
    "print(geodesic(inj, chin))\n",
    "\n",
    "# From csv\n",
    "inj = (12.923007, 80.250555)\n",
    "chin = (13.069074,80.270825)\n",
    "print(geodesic(inj, chin))"
   ]
  },
  {
   "cell_type": "code",
   "execution_count": 65,
   "metadata": {},
   "outputs": [],
   "source": [
    "def distancebw1(x):\n",
    "    # Loading the lat-long data for Kolkata & Delhi \n",
    "    place = (x['Latitude'],x['Longitude'])\n",
    "    injambakkam = (12.923007, 80.250555) \n",
    "\n",
    "    # Print the distance calculated in km \n",
    "    return(geodesic(place, injambakkam).km) "
   ]
  },
  {
   "cell_type": "code",
   "execution_count": 66,
   "metadata": {},
   "outputs": [
    {
     "data": {
      "application/vnd.jupyter.widget-view+json": {
       "model_id": "5657a04f5ba042f79ee43361a9888080",
       "version_major": 2,
       "version_minor": 0
      },
      "text/plain": [
       "HBox(children=(FloatProgress(value=0.0, max=593.0), HTML(value='')))"
      ]
     },
     "metadata": {},
     "output_type": "display_data"
    },
    {
     "name": "stdout",
     "output_type": "stream",
     "text": [
      "\n",
      "Wall time: 200 ms\n"
     ]
    }
   ],
   "source": [
    "df1 = df\n",
    "%time df1['distance(in kms)'] = df1.progress_apply(distancebw1,axis=1)"
   ]
  },
  {
   "cell_type": "code",
   "execution_count": 67,
   "metadata": {},
   "outputs": [
    {
     "data": {
      "text/html": [
       "<div>\n",
       "<style scoped>\n",
       "    .dataframe tbody tr th:only-of-type {\n",
       "        vertical-align: middle;\n",
       "    }\n",
       "\n",
       "    .dataframe tbody tr th {\n",
       "        vertical-align: top;\n",
       "    }\n",
       "\n",
       "    .dataframe thead th {\n",
       "        text-align: right;\n",
       "    }\n",
       "</style>\n",
       "<table border=\"1\" class=\"dataframe\">\n",
       "  <thead>\n",
       "    <tr style=\"text-align: right;\">\n",
       "      <th></th>\n",
       "      <th>CID</th>\n",
       "      <th>CityName/AreaName</th>\n",
       "      <th>Pincode</th>\n",
       "      <th>District</th>\n",
       "      <th>State</th>\n",
       "      <th>Locality</th>\n",
       "      <th>Location</th>\n",
       "      <th>Latitude</th>\n",
       "      <th>Longitude</th>\n",
       "      <th>distance(in kms)</th>\n",
       "    </tr>\n",
       "  </thead>\n",
       "  <tbody>\n",
       "    <tr>\n",
       "      <th>101464</th>\n",
       "      <td>101465</td>\n",
       "      <td>Flower Bazaar</td>\n",
       "      <td>600001</td>\n",
       "      <td>Chennai</td>\n",
       "      <td>TAMIL NADU</td>\n",
       "      <td>Flower Bazaar,600001,Chennai,TAMIL NADU</td>\n",
       "      <td>Flower Bazaar Chowk, George Town, Chennai, Tam...</td>\n",
       "      <td>13.088194</td>\n",
       "      <td>80.281455</td>\n",
       "      <td>18.579589</td>\n",
       "    </tr>\n",
       "    <tr>\n",
       "      <th>101465</th>\n",
       "      <td>101466</td>\n",
       "      <td>Govt Stanley Hospital</td>\n",
       "      <td>600001</td>\n",
       "      <td>Chennai</td>\n",
       "      <td>TAMIL NADU</td>\n",
       "      <td>Govt Stanley Hospital,600001,Chennai,TAMIL NADU</td>\n",
       "      <td>Blood Bank-Government Stanley Hospital</td>\n",
       "      <td>13.105560</td>\n",
       "      <td>80.286480</td>\n",
       "      <td>20.568512</td>\n",
       "    </tr>\n",
       "    <tr>\n",
       "      <th>101466</th>\n",
       "      <td>101467</td>\n",
       "      <td>Mannady (Chennai)</td>\n",
       "      <td>600001</td>\n",
       "      <td>Chennai</td>\n",
       "      <td>TAMIL NADU</td>\n",
       "      <td>Mannady (Chennai),600001,Chennai,TAMIL NADU</td>\n",
       "      <td>Mannady, George Town, Chennai, Tamil Nadu</td>\n",
       "      <td>13.100870</td>\n",
       "      <td>80.293800</td>\n",
       "      <td>20.228572</td>\n",
       "    </tr>\n",
       "    <tr>\n",
       "      <th>101467</th>\n",
       "      <td>101468</td>\n",
       "      <td>Mint Building</td>\n",
       "      <td>600001</td>\n",
       "      <td>Chennai</td>\n",
       "      <td>TAMIL NADU</td>\n",
       "      <td>Mint Building,600001,Chennai,TAMIL NADU</td>\n",
       "      <td>T. N. K. Buildings</td>\n",
       "      <td>13.084710</td>\n",
       "      <td>80.278190</td>\n",
       "      <td>18.138748</td>\n",
       "    </tr>\n",
       "    <tr>\n",
       "      <th>101468</th>\n",
       "      <td>101469</td>\n",
       "      <td>MPT AO</td>\n",
       "      <td>600001</td>\n",
       "      <td>Chennai</td>\n",
       "      <td>TAMIL NADU</td>\n",
       "      <td>MPT AO,600001,Chennai,TAMIL NADU</td>\n",
       "      <td>600001</td>\n",
       "      <td>13.093700</td>\n",
       "      <td>80.295838</td>\n",
       "      <td>19.512334</td>\n",
       "    </tr>\n",
       "  </tbody>\n",
       "</table>\n",
       "</div>"
      ],
      "text/plain": [
       "           CID      CityName/AreaName  Pincode District       State  \\\n",
       "101464  101465          Flower Bazaar   600001  Chennai  TAMIL NADU   \n",
       "101465  101466  Govt Stanley Hospital   600001  Chennai  TAMIL NADU   \n",
       "101466  101467      Mannady (Chennai)   600001  Chennai  TAMIL NADU   \n",
       "101467  101468          Mint Building   600001  Chennai  TAMIL NADU   \n",
       "101468  101469                 MPT AO   600001  Chennai  TAMIL NADU   \n",
       "\n",
       "                                               Locality  \\\n",
       "101464          Flower Bazaar,600001,Chennai,TAMIL NADU   \n",
       "101465  Govt Stanley Hospital,600001,Chennai,TAMIL NADU   \n",
       "101466      Mannady (Chennai),600001,Chennai,TAMIL NADU   \n",
       "101467          Mint Building,600001,Chennai,TAMIL NADU   \n",
       "101468                 MPT AO,600001,Chennai,TAMIL NADU   \n",
       "\n",
       "                                                 Location   Latitude  \\\n",
       "101464  Flower Bazaar Chowk, George Town, Chennai, Tam...  13.088194   \n",
       "101465             Blood Bank-Government Stanley Hospital  13.105560   \n",
       "101466          Mannady, George Town, Chennai, Tamil Nadu  13.100870   \n",
       "101467                                 T. N. K. Buildings  13.084710   \n",
       "101468                                             600001  13.093700   \n",
       "\n",
       "        Longitude  distance(in kms)  \n",
       "101464  80.281455         18.579589  \n",
       "101465  80.286480         20.568512  \n",
       "101466  80.293800         20.228572  \n",
       "101467  80.278190         18.138748  \n",
       "101468  80.295838         19.512334  "
      ]
     },
     "execution_count": 67,
     "metadata": {},
     "output_type": "execute_result"
    }
   ],
   "source": [
    "df1.head()"
   ]
  },
  {
   "cell_type": "code",
   "execution_count": 68,
   "metadata": {},
   "outputs": [],
   "source": [
    "df1.to_csv('result2.csv',index=False)"
   ]
  },
  {
   "cell_type": "markdown",
   "metadata": {},
   "source": [
    "### Observation:\n",
    "The latitude & longitude has been generated correctly with approximations, with some approximations on distances also."
   ]
  }
 ],
 "metadata": {
  "kernelspec": {
   "display_name": "Python 3",
   "language": "python",
   "name": "python3"
  },
  "language_info": {
   "codemirror_mode": {
    "name": "ipython",
    "version": 3
   },
   "file_extension": ".py",
   "mimetype": "text/x-python",
   "name": "python",
   "nbconvert_exporter": "python",
   "pygments_lexer": "ipython3",
   "version": "3.8.1"
  }
 },
 "nbformat": 4,
 "nbformat_minor": 4
}
