{
 "cells": [
  {
   "cell_type": "markdown",
   "metadata": {},
   "source": [
    "1. ### Import packages"
   ]
  },
  {
   "cell_type": "code",
   "execution_count": 44,
   "metadata": {},
   "outputs": [],
   "source": [
    "import pgeocode\n",
    "import os\n",
    "import pandas as pd"
   ]
  },
  {
   "cell_type": "code",
   "execution_count": 46,
   "metadata": {},
   "outputs": [],
   "source": [
    "path = os.getcwd()"
   ]
  },
  {
   "cell_type": "markdown",
   "metadata": {},
   "source": [
    "2. ### Import data - Pincode by locality in India "
   ]
  },
  {
   "cell_type": "code",
   "execution_count": 51,
   "metadata": {},
   "outputs": [],
   "source": [
    "path1 = path + '/Data/Locality_village_pincode_final_mar-2017.csv'\n",
    "data = pd.read_csv(path1,encoding= 'unicode_escape')"
   ]
  },
  {
   "cell_type": "code",
   "execution_count": 53,
   "metadata": {},
   "outputs": [
    {
     "data": {
      "text/html": [
       "<div>\n",
       "<style scoped>\n",
       "    .dataframe tbody tr th:only-of-type {\n",
       "        vertical-align: middle;\n",
       "    }\n",
       "\n",
       "    .dataframe tbody tr th {\n",
       "        vertical-align: top;\n",
       "    }\n",
       "\n",
       "    .dataframe thead th {\n",
       "        text-align: right;\n",
       "    }\n",
       "</style>\n",
       "<table border=\"1\" class=\"dataframe\">\n",
       "  <thead>\n",
       "    <tr style=\"text-align: right;\">\n",
       "      <th></th>\n",
       "      <th>Village/Locality name</th>\n",
       "      <th>Officename ( BO/SO/HO)</th>\n",
       "      <th>Pincode</th>\n",
       "      <th>Sub-distname</th>\n",
       "      <th>Districtname</th>\n",
       "      <th>StateName</th>\n",
       "    </tr>\n",
       "  </thead>\n",
       "  <tbody>\n",
       "    <tr>\n",
       "      <th>0</th>\n",
       "      <td>Aliganj</td>\n",
       "      <td>Lodi Road H.O</td>\n",
       "      <td>110003</td>\n",
       "      <td>Defence Colony</td>\n",
       "      <td>SOUTH EAST DELHI</td>\n",
       "      <td>DELHI</td>\n",
       "    </tr>\n",
       "    <tr>\n",
       "      <th>1</th>\n",
       "      <td>Kasturba Nagar</td>\n",
       "      <td>Lodi Road H.O</td>\n",
       "      <td>110003</td>\n",
       "      <td>Defence Colony</td>\n",
       "      <td>SOUTH EAST DELHI</td>\n",
       "      <td>DELHI</td>\n",
       "    </tr>\n",
       "    <tr>\n",
       "      <th>2</th>\n",
       "      <td>Jeewan Nagar</td>\n",
       "      <td>Jungpura S.O</td>\n",
       "      <td>110014</td>\n",
       "      <td>Defence Colony</td>\n",
       "      <td>SOUTH EAST DELHI</td>\n",
       "      <td>DELHI</td>\n",
       "    </tr>\n",
       "    <tr>\n",
       "      <th>3</th>\n",
       "      <td>Tehkhand</td>\n",
       "      <td>Okhla Industrial Estate S.O</td>\n",
       "      <td>110020</td>\n",
       "      <td>Defence Colony</td>\n",
       "      <td>SOUTH EAST DELHI</td>\n",
       "      <td>DELHI</td>\n",
       "    </tr>\n",
       "    <tr>\n",
       "      <th>4</th>\n",
       "      <td>Zakir Nagar SO</td>\n",
       "      <td>New Friends Colony S.O</td>\n",
       "      <td>110025</td>\n",
       "      <td>Defence Colony</td>\n",
       "      <td>SOUTH EAST DELHI</td>\n",
       "      <td>DELHI</td>\n",
       "    </tr>\n",
       "  </tbody>\n",
       "</table>\n",
       "</div>"
      ],
      "text/plain": [
       "  Village/Locality name       Officename ( BO/SO/HO)  Pincode    Sub-distname  \\\n",
       "0               Aliganj                Lodi Road H.O   110003  Defence Colony   \n",
       "1        Kasturba Nagar                Lodi Road H.O   110003  Defence Colony   \n",
       "2          Jeewan Nagar                 Jungpura S.O   110014  Defence Colony   \n",
       "3              Tehkhand  Okhla Industrial Estate S.O   110020  Defence Colony   \n",
       "4        Zakir Nagar SO       New Friends Colony S.O   110025  Defence Colony   \n",
       "\n",
       "       Districtname StateName  \n",
       "0  SOUTH EAST DELHI     DELHI  \n",
       "1  SOUTH EAST DELHI     DELHI  \n",
       "2  SOUTH EAST DELHI     DELHI  \n",
       "3  SOUTH EAST DELHI     DELHI  \n",
       "4  SOUTH EAST DELHI     DELHI  "
      ]
     },
     "execution_count": 53,
     "metadata": {},
     "output_type": "execute_result"
    }
   ],
   "source": [
    "data.head()"
   ]
  },
  {
   "cell_type": "markdown",
   "metadata": {},
   "source": [
    "3. ### Apply Filters"
   ]
  },
  {
   "cell_type": "code",
   "execution_count": 57,
   "metadata": {},
   "outputs": [
    {
     "data": {
      "text/plain": [
       "['ARIYALUR',\n",
       " 'CHENNAI',\n",
       " 'COIMBATORE',\n",
       " 'CUDDALORE',\n",
       " 'DHARMAPURI',\n",
       " 'DINDIGUL',\n",
       " 'ERODE',\n",
       " 'KANCHIPURAM',\n",
       " 'KANYAKUMARI',\n",
       " 'KARUR',\n",
       " 'KRISHNAGIRI',\n",
       " 'MADURAI',\n",
       " 'NAGAPATTINAM',\n",
       " 'NAMAKKAL',\n",
       " 'NILGIRIS',\n",
       " 'PERAMBALUR',\n",
       " 'PUDUKKOTTAI',\n",
       " 'RAMANATHAPURAM',\n",
       " 'SALEM',\n",
       " 'SIVAGANGA',\n",
       " 'THANJAVUR',\n",
       " 'THENI',\n",
       " 'TIRUCHIRAPPALLI',\n",
       " 'TIRUNELVELI',\n",
       " 'TIRUPPUR',\n",
       " 'TIRUVALLUR',\n",
       " 'TIRUVANNAMALAI',\n",
       " 'TIRUVARUR',\n",
       " 'TUTICORIN',\n",
       " 'VELLORE',\n",
       " 'VILLUPURAM',\n",
       " 'VIRUDHUNAGAR']"
      ]
     },
     "execution_count": 57,
     "metadata": {},
     "output_type": "execute_result"
    }
   ],
   "source": [
    "sorted(data['Districtname'][data['StateName']=='TAMIL NADU'].unique())"
   ]
  },
  {
   "cell_type": "code",
   "execution_count": 141,
   "metadata": {},
   "outputs": [],
   "source": [
    "district = ['CHENNAI','KANCHIPURAM']\n",
    "data1 = data[data['Districtname'].isin(district)]"
   ]
  },
  {
   "cell_type": "code",
   "execution_count": 70,
   "metadata": {},
   "outputs": [
    {
     "data": {
      "text/html": [
       "<div>\n",
       "<style scoped>\n",
       "    .dataframe tbody tr th:only-of-type {\n",
       "        vertical-align: middle;\n",
       "    }\n",
       "\n",
       "    .dataframe tbody tr th {\n",
       "        vertical-align: top;\n",
       "    }\n",
       "\n",
       "    .dataframe thead th {\n",
       "        text-align: right;\n",
       "    }\n",
       "</style>\n",
       "<table border=\"1\" class=\"dataframe\">\n",
       "  <thead>\n",
       "    <tr style=\"text-align: right;\">\n",
       "      <th></th>\n",
       "      <th>Village/Locality name</th>\n",
       "      <th>Officename ( BO/SO/HO)</th>\n",
       "      <th>Pincode</th>\n",
       "      <th>Sub-distname</th>\n",
       "      <th>Districtname</th>\n",
       "      <th>StateName</th>\n",
       "    </tr>\n",
       "  </thead>\n",
       "  <tbody>\n",
       "    <tr>\n",
       "      <th>558410</th>\n",
       "      <td>Parrys</td>\n",
       "      <td>Chennai G.P.O.</td>\n",
       "      <td>600001</td>\n",
       "      <td>Fort - Tondiarpet</td>\n",
       "      <td>CHENNAI</td>\n",
       "      <td>TAMIL NADU</td>\n",
       "    </tr>\n",
       "    <tr>\n",
       "      <th>558411</th>\n",
       "      <td>Chennai</td>\n",
       "      <td>Anna Road H.O</td>\n",
       "      <td>600002</td>\n",
       "      <td>Egmore - Nungambakkam</td>\n",
       "      <td>CHENNAI</td>\n",
       "      <td>TAMIL NADU</td>\n",
       "    </tr>\n",
       "    <tr>\n",
       "      <th>558412</th>\n",
       "      <td>Parrys</td>\n",
       "      <td>Park Town H.O</td>\n",
       "      <td>600003</td>\n",
       "      <td>Fort - Tondiarpet</td>\n",
       "      <td>CHENNAI</td>\n",
       "      <td>TAMIL NADU</td>\n",
       "    </tr>\n",
       "    <tr>\n",
       "      <th>558413</th>\n",
       "      <td>Mylapore</td>\n",
       "      <td>Mylapore H.O</td>\n",
       "      <td>600004</td>\n",
       "      <td>Mylapore - Triplicane</td>\n",
       "      <td>CHENNAI</td>\n",
       "      <td>TAMIL NADU</td>\n",
       "    </tr>\n",
       "    <tr>\n",
       "      <th>558414</th>\n",
       "      <td>Tiruvallikkeni</td>\n",
       "      <td>Tiruvallikkeni S.O</td>\n",
       "      <td>600005</td>\n",
       "      <td>Mylapore - Triplicane</td>\n",
       "      <td>CHENNAI</td>\n",
       "      <td>TAMIL NADU</td>\n",
       "    </tr>\n",
       "  </tbody>\n",
       "</table>\n",
       "</div>"
      ],
      "text/plain": [
       "       Village/Locality name Officename ( BO/SO/HO)  Pincode  \\\n",
       "558410                Parrys         Chennai G.P.O.   600001   \n",
       "558411               Chennai          Anna Road H.O   600002   \n",
       "558412                Parrys          Park Town H.O   600003   \n",
       "558413              Mylapore           Mylapore H.O   600004   \n",
       "558414        Tiruvallikkeni     Tiruvallikkeni S.O   600005   \n",
       "\n",
       "                 Sub-distname Districtname   StateName  \n",
       "558410      Fort - Tondiarpet      CHENNAI  TAMIL NADU  \n",
       "558411  Egmore - Nungambakkam      CHENNAI  TAMIL NADU  \n",
       "558412      Fort - Tondiarpet      CHENNAI  TAMIL NADU  \n",
       "558413  Mylapore - Triplicane      CHENNAI  TAMIL NADU  \n",
       "558414  Mylapore - Triplicane      CHENNAI  TAMIL NADU  "
      ]
     },
     "execution_count": 70,
     "metadata": {},
     "output_type": "execute_result"
    }
   ],
   "source": [
    "data1.head()"
   ]
  },
  {
   "cell_type": "markdown",
   "metadata": {},
   "source": [
    "4. ### Postal code geocoding and distance calculations - pgeocode"
   ]
  },
  {
   "cell_type": "markdown",
   "metadata": {},
   "source": [
    "* pgeocode is a Python library for high performance off-line querying of GPS coordinates, region name and municipality name from postal codes. \n",
    "* Distances between postal codes as well as general distance queries are also supported. \n",
    "* The used GeoNames database includes postal codes for 83 countries."
   ]
  },
  {
   "cell_type": "markdown",
   "metadata": {},
   "source": [
    "https://pgeocode.readthedocs.io"
   ]
  },
  {
   "cell_type": "code",
   "execution_count": 65,
   "metadata": {},
   "outputs": [],
   "source": [
    "dist = pgeocode.GeoDistance('IN') # INDIA"
   ]
  },
  {
   "cell_type": "code",
   "execution_count": 74,
   "metadata": {},
   "outputs": [
    {
     "data": {
      "text/plain": [
       "19.573262624518886"
      ]
     },
     "execution_count": 74,
     "metadata": {},
     "output_type": "execute_result"
    }
   ],
   "source": [
    "# distance between two pincodes\n",
    "dist.query_postal_code(600119, 600118) # retured distance in km"
   ]
  },
  {
   "cell_type": "markdown",
   "metadata": {},
   "source": [
    "5. ### Distance between pincodes"
   ]
  },
  {
   "cell_type": "code",
   "execution_count": 71,
   "metadata": {},
   "outputs": [
    {
     "data": {
      "text/html": [
       "<div>\n",
       "<style scoped>\n",
       "    .dataframe tbody tr th:only-of-type {\n",
       "        vertical-align: middle;\n",
       "    }\n",
       "\n",
       "    .dataframe tbody tr th {\n",
       "        vertical-align: top;\n",
       "    }\n",
       "\n",
       "    .dataframe thead th {\n",
       "        text-align: right;\n",
       "    }\n",
       "</style>\n",
       "<table border=\"1\" class=\"dataframe\">\n",
       "  <thead>\n",
       "    <tr style=\"text-align: right;\">\n",
       "      <th></th>\n",
       "      <th>Village/Locality name</th>\n",
       "      <th>Officename ( BO/SO/HO)</th>\n",
       "      <th>Pincode</th>\n",
       "      <th>Sub-distname</th>\n",
       "      <th>Districtname</th>\n",
       "      <th>StateName</th>\n",
       "    </tr>\n",
       "  </thead>\n",
       "  <tbody>\n",
       "    <tr>\n",
       "      <th>558661</th>\n",
       "      <td>Sholinganallur</td>\n",
       "      <td>Sholinganallur S.O</td>\n",
       "      <td>600119</td>\n",
       "      <td>Sholinganallur</td>\n",
       "      <td>KANCHIPURAM</td>\n",
       "      <td>TAMIL NADU</td>\n",
       "    </tr>\n",
       "    <tr>\n",
       "      <th>558662</th>\n",
       "      <td>Uthandi</td>\n",
       "      <td>Sholinganallur S.O</td>\n",
       "      <td>600119</td>\n",
       "      <td>Tambaram</td>\n",
       "      <td>KANCHIPURAM</td>\n",
       "      <td>TAMIL NADU</td>\n",
       "    </tr>\n",
       "  </tbody>\n",
       "</table>\n",
       "</div>"
      ],
      "text/plain": [
       "       Village/Locality name Officename ( BO/SO/HO)  Pincode    Sub-distname  \\\n",
       "558661        Sholinganallur     Sholinganallur S.O   600119  Sholinganallur   \n",
       "558662               Uthandi     Sholinganallur S.O   600119        Tambaram   \n",
       "\n",
       "       Districtname   StateName  \n",
       "558661  KANCHIPURAM  TAMIL NADU  \n",
       "558662  KANCHIPURAM  TAMIL NADU  "
      ]
     },
     "execution_count": 71,
     "metadata": {},
     "output_type": "execute_result"
    }
   ],
   "source": [
    "data1[data1['Pincode']==600119]"
   ]
  },
  {
   "cell_type": "code",
   "execution_count": 142,
   "metadata": {},
   "outputs": [],
   "source": [
    "data2 = data1"
   ]
  },
  {
   "cell_type": "code",
   "execution_count": 143,
   "metadata": {},
   "outputs": [
    {
     "name": "stdout",
     "output_type": "stream",
     "text": [
      "<class 'pandas.core.frame.DataFrame'>\n",
      "Int64Index: 1304 entries, 558410 to 601014\n",
      "Data columns (total 6 columns):\n",
      " #   Column                  Non-Null Count  Dtype \n",
      "---  ------                  --------------  ----- \n",
      " 0   Village/Locality name   1304 non-null   object\n",
      " 1   Officename ( BO/SO/HO)  1304 non-null   object\n",
      " 2   Pincode                 1304 non-null   int64 \n",
      " 3   Sub-distname            1304 non-null   object\n",
      " 4   Districtname            1304 non-null   object\n",
      " 5   StateName               1304 non-null   object\n",
      "dtypes: int64(1), object(5)\n",
      "memory usage: 71.3+ KB\n"
     ]
    }
   ],
   "source": [
    "data2.info()"
   ]
  },
  {
   "cell_type": "code",
   "execution_count": 152,
   "metadata": {},
   "outputs": [],
   "source": [
    "def distancebw(x):\n",
    "    dist = pgeocode.GeoDistance('IN') # INDIA\n",
    "    dist = dist.query_postal_code(600119, x.Pincode)\n",
    "    return dist"
   ]
  },
  {
   "cell_type": "code",
   "execution_count": 166,
   "metadata": {},
   "outputs": [],
   "source": [
    "data22 = data2"
   ]
  },
  {
   "cell_type": "code",
   "execution_count": 167,
   "metadata": {},
   "outputs": [
    {
     "name": "stdout",
     "output_type": "stream",
     "text": [
      "Wall time: 7min 22s\n"
     ]
    },
    {
     "name": "stderr",
     "output_type": "stream",
     "text": [
      "<timed exec>:1: SettingWithCopyWarning: \n",
      "A value is trying to be set on a copy of a slice from a DataFrame.\n",
      "Try using .loc[row_indexer,col_indexer] = value instead\n",
      "\n",
      "See the caveats in the documentation: https://pandas.pydata.org/pandas-docs/stable/user_guide/indexing.html#returning-a-view-versus-a-copy\n"
     ]
    }
   ],
   "source": [
    "%time data22['dis from A'] = data22.apply(distancebw,axis=1) #7mins"
   ]
  },
  {
   "cell_type": "code",
   "execution_count": 172,
   "metadata": {},
   "outputs": [],
   "source": [
    "data22.to_csv('result.csv',index=False)"
   ]
  },
  {
   "cell_type": "code",
   "execution_count": 173,
   "metadata": {},
   "outputs": [
    {
     "data": {
      "text/html": [
       "<div>\n",
       "<style scoped>\n",
       "    .dataframe tbody tr th:only-of-type {\n",
       "        vertical-align: middle;\n",
       "    }\n",
       "\n",
       "    .dataframe tbody tr th {\n",
       "        vertical-align: top;\n",
       "    }\n",
       "\n",
       "    .dataframe thead th {\n",
       "        text-align: right;\n",
       "    }\n",
       "</style>\n",
       "<table border=\"1\" class=\"dataframe\">\n",
       "  <thead>\n",
       "    <tr style=\"text-align: right;\">\n",
       "      <th></th>\n",
       "      <th>Village/Locality name</th>\n",
       "      <th>Officename ( BO/SO/HO)</th>\n",
       "      <th>Pincode</th>\n",
       "      <th>Sub-distname</th>\n",
       "      <th>Districtname</th>\n",
       "      <th>StateName</th>\n",
       "      <th>dis from A</th>\n",
       "    </tr>\n",
       "  </thead>\n",
       "  <tbody>\n",
       "    <tr>\n",
       "      <th>558410</th>\n",
       "      <td>Parrys</td>\n",
       "      <td>Chennai G.P.O.</td>\n",
       "      <td>600001</td>\n",
       "      <td>Fort - Tondiarpet</td>\n",
       "      <td>CHENNAI</td>\n",
       "      <td>TAMIL NADU</td>\n",
       "      <td>23.079828</td>\n",
       "    </tr>\n",
       "    <tr>\n",
       "      <th>558411</th>\n",
       "      <td>Chennai</td>\n",
       "      <td>Anna Road H.O</td>\n",
       "      <td>600002</td>\n",
       "      <td>Egmore - Nungambakkam</td>\n",
       "      <td>CHENNAI</td>\n",
       "      <td>TAMIL NADU</td>\n",
       "      <td>20.959674</td>\n",
       "    </tr>\n",
       "    <tr>\n",
       "      <th>558412</th>\n",
       "      <td>Parrys</td>\n",
       "      <td>Park Town H.O</td>\n",
       "      <td>600003</td>\n",
       "      <td>Fort - Tondiarpet</td>\n",
       "      <td>CHENNAI</td>\n",
       "      <td>TAMIL NADU</td>\n",
       "      <td>21.121267</td>\n",
       "    </tr>\n",
       "    <tr>\n",
       "      <th>558413</th>\n",
       "      <td>Mylapore</td>\n",
       "      <td>Mylapore H.O</td>\n",
       "      <td>600004</td>\n",
       "      <td>Mylapore - Triplicane</td>\n",
       "      <td>CHENNAI</td>\n",
       "      <td>TAMIL NADU</td>\n",
       "      <td>21.121267</td>\n",
       "    </tr>\n",
       "    <tr>\n",
       "      <th>558414</th>\n",
       "      <td>Tiruvallikkeni</td>\n",
       "      <td>Tiruvallikkeni S.O</td>\n",
       "      <td>600005</td>\n",
       "      <td>Mylapore - Triplicane</td>\n",
       "      <td>CHENNAI</td>\n",
       "      <td>TAMIL NADU</td>\n",
       "      <td>19.498688</td>\n",
       "    </tr>\n",
       "  </tbody>\n",
       "</table>\n",
       "</div>"
      ],
      "text/plain": [
       "       Village/Locality name Officename ( BO/SO/HO)  Pincode  \\\n",
       "558410                Parrys         Chennai G.P.O.   600001   \n",
       "558411               Chennai          Anna Road H.O   600002   \n",
       "558412                Parrys          Park Town H.O   600003   \n",
       "558413              Mylapore           Mylapore H.O   600004   \n",
       "558414        Tiruvallikkeni     Tiruvallikkeni S.O   600005   \n",
       "\n",
       "                 Sub-distname Districtname   StateName  dis from A  \n",
       "558410      Fort - Tondiarpet      CHENNAI  TAMIL NADU   23.079828  \n",
       "558411  Egmore - Nungambakkam      CHENNAI  TAMIL NADU   20.959674  \n",
       "558412      Fort - Tondiarpet      CHENNAI  TAMIL NADU   21.121267  \n",
       "558413  Mylapore - Triplicane      CHENNAI  TAMIL NADU   21.121267  \n",
       "558414  Mylapore - Triplicane      CHENNAI  TAMIL NADU   19.498688  "
      ]
     },
     "execution_count": 173,
     "metadata": {},
     "output_type": "execute_result"
    }
   ],
   "source": [
    "data22.head()"
   ]
  }
 ],
 "metadata": {
  "kernelspec": {
   "display_name": "Python 3",
   "language": "python",
   "name": "python3"
  },
  "language_info": {
   "codemirror_mode": {
    "name": "ipython",
    "version": 3
   },
   "file_extension": ".py",
   "mimetype": "text/x-python",
   "name": "python",
   "nbconvert_exporter": "python",
   "pygments_lexer": "ipython3",
   "version": "3.8.1"
  }
 },
 "nbformat": 4,
 "nbformat_minor": 4
}
